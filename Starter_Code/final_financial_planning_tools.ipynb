{
 "cells": [
  {
   "cell_type": "markdown",
   "metadata": {},
   "source": [
    "# Financial Planning with APIs and Simulations\n",
    "\n",
    "In this Challenge, you’ll create two financial analysis tools by using a single Jupyter notebook:\n",
    "\n",
    "Part 1: A financial planner for emergencies. The members will be able to use this tool to visualize their current savings. The members can then determine if they have enough reserves for an emergency fund.\n",
    "\n",
    "Part 2: A financial planner for retirement. This tool will forecast the performance of their retirement portfolio in 30 years. To do this, the tool will make an Alpaca API call via the Alpaca SDK to get historical price data for use in Monte Carlo simulations.\n",
    "\n",
    "You’ll use the information from the Monte Carlo simulation to answer questions about the portfolio in your Jupyter notebook.\n",
    "\n"
   ]
  },
  {
   "cell_type": "code",
   "execution_count": 1,
   "metadata": {},
   "outputs": [],
   "source": [
    "# Import the required libraries and dependencies\n",
    "import os\n",
    "import requests\n",
    "import json\n",
    "import pandas as pd\n",
    "import datetime\n",
    "from dotenv import load_dotenv\n",
    "import alpaca_trade_api as tradeapi\n",
    "from MCForecastTools import MCSimulation\n",
    "\n",
    "%matplotlib inline"
   ]
  },
  {
   "cell_type": "code",
   "execution_count": 2,
   "metadata": {},
   "outputs": [
    {
     "data": {
      "text/plain": [
       "True"
      ]
     },
     "execution_count": 2,
     "metadata": {},
     "output_type": "execute_result"
    }
   ],
   "source": [
    "# Load the environment variables from the .env file\n",
    "#by calling the load_dotenv function\n",
    "load_dotenv()"
   ]
  },
  {
   "cell_type": "markdown",
   "metadata": {},
   "source": [
    "## Part 1: Create a Financial Planner for Emergencies"
   ]
  },
  {
   "cell_type": "markdown",
   "metadata": {},
   "source": [
    "### Evaluate the Cryptocurrency Wallet by Using the Requests Library\n",
    "\n",
    "In this section, you’ll determine the current value of a member’s cryptocurrency wallet. You’ll collect the current prices for the Bitcoin and Ethereum cryptocurrencies by using the Python Requests library. For the prototype, you’ll assume that the member holds the 1.2 Bitcoins (BTC) and 5.3 Ethereum coins (ETH). To do all this, complete the following steps:\n",
    "\n",
    "1. Create a variable named `monthly_income`, and set its value to `12000`.\n",
    "\n",
    "2. Use the Requests library to get the current price (in US dollars) of Bitcoin (BTC) and Ethereum (ETH) by using the API endpoints that the starter code supplies.\n",
    "\n",
    "3. Navigate the JSON response object to access the current price of each coin, and store each in a variable.\n",
    "\n",
    "    > **Hint** Note the specific identifier for each cryptocurrency in the API JSON response. The Bitcoin identifier is `1`, and the Ethereum identifier is `1027`.\n",
    "\n",
    "4. Calculate the value, in US dollars, of the current amount of each cryptocurrency and of the entire cryptocurrency wallet.\n",
    "\n"
   ]
  },
  {
   "cell_type": "code",
   "execution_count": 3,
   "metadata": {},
   "outputs": [],
   "source": [
    "# The current number of coins for each cryptocurrency asset held in the portfolio.\n",
    "btc_coins = 1.2\n",
    "eth_coins = 5.3"
   ]
  },
  {
   "cell_type": "markdown",
   "metadata": {},
   "source": [
    "#### Step 1: Create a variable named `monthly_income`, and set its value to `12000`."
   ]
  },
  {
   "cell_type": "code",
   "execution_count": 4,
   "metadata": {},
   "outputs": [],
   "source": [
    "# The monthly amount for the member's household income\n",
    "monthly_income = 12000\n"
   ]
  },
  {
   "cell_type": "code",
   "execution_count": 5,
   "metadata": {},
   "outputs": [
    {
     "data": {
      "text/plain": [
       "'2021-08-01'"
      ]
     },
     "execution_count": 5,
     "metadata": {},
     "output_type": "execute_result"
    }
   ],
   "source": [
    "# Input the current date to get up-to-date, current asset pricing.\n",
    "today_date = str(datetime.datetime.now()).split()[0]\n",
    "today_date"
   ]
  },
  {
   "cell_type": "markdown",
   "metadata": {},
   "source": [
    "#### Review the endpoint URLs for the API calls to Free Crypto API in order to get the current pricing information for both BTC and ETH."
   ]
  },
  {
   "cell_type": "code",
   "execution_count": 6,
   "metadata": {},
   "outputs": [],
   "source": [
    "# The Free Crypto API Call endpoint URLs for the held cryptocurrency assets\n",
    "btc_url = \"https://api.alternative.me/v2/ticker/Bitcoin/?convert=USD\"\n",
    "eth_url = \"https://api.alternative.me/v2/ticker/Ethereum/?convert=USD\""
   ]
  },
  {
   "cell_type": "markdown",
   "metadata": {},
   "source": [
    "#### Step 2. Use the Requests library to get the current price (in US dollars) of Bitcoin (BTC) and Ethereum (ETH) by using the API endpoints that the starter code supplied."
   ]
  },
  {
   "cell_type": "code",
   "execution_count": 7,
   "metadata": {},
   "outputs": [
    {
     "name": "stdout",
     "output_type": "stream",
     "text": [
      "{\n",
      "   \"data\": {\n",
      "      \"1\": {\n",
      "         \"id\": 1,\n",
      "         \"name\": \"Bitcoin\",\n",
      "         \"symbol\": \"BTC\",\n",
      "         \"website_slug\": \"bitcoin\",\n",
      "         \"rank\": 1,\n",
      "         \"circulating_supply\": 18773312,\n",
      "         \"total_supply\": 18773312,\n",
      "         \"max_supply\": 21000000,\n",
      "         \"quotes\": {\n",
      "            \"USD\": {\n",
      "               \"price\": 40997.0,\n",
      "               \"volume_24h\": 24785131680,\n",
      "               \"market_cap\": 771642134874,\n",
      "               \"percentage_change_1h\": -1.22283309663341,\n",
      "               \"percentage_change_24h\": -1.18572656551442,\n",
      "               \"percentage_change_7d\": 19.8269121701058,\n",
      "               \"percent_change_1h\": -1.22283309663341,\n",
      "               \"percent_change_24h\": -1.18572656551442,\n",
      "               \"percent_change_7d\": 19.8269121701058\n",
      "            }\n",
      "         },\n",
      "         \"last_updated\": 1627835087\n",
      "      }\n",
      "   },\n",
      "   \"metadata\": {\n",
      "      \"timestamp\": 1627835087,\n",
      "      \"num_cryptocurrencies\": 3105,\n",
      "      \"error\": null\n",
      "   }\n",
      "}\n"
     ]
    }
   ],
   "source": [
    "# Using the Python requests library, make an API call to access the current price of BTC\n",
    "btc_response = requests.get(btc_url).json()\n",
    "\n",
    "# Use the json.dumps function to review the response data from the API call\n",
    "# Use the indent and sort_keys parameters to make the response object readable\n",
    "print(json.dumps(btc_response, indent=3))\n"
   ]
  },
  {
   "cell_type": "code",
   "execution_count": 8,
   "metadata": {},
   "outputs": [
    {
     "name": "stdout",
     "output_type": "stream",
     "text": [
      "{\n",
      "   \"data\": {\n",
      "      \"1027\": {\n",
      "         \"id\": 1027,\n",
      "         \"name\": \"Ethereum\",\n",
      "         \"symbol\": \"ETH\",\n",
      "         \"website_slug\": \"ethereum\",\n",
      "         \"rank\": 2,\n",
      "         \"circulating_supply\": 116929646,\n",
      "         \"total_supply\": 116929646,\n",
      "         \"max_supply\": 0,\n",
      "         \"quotes\": {\n",
      "            \"USD\": {\n",
      "               \"price\": 2557.29,\n",
      "               \"volume_24h\": 22072705077,\n",
      "               \"market_cap\": 300321871326,\n",
      "               \"percentage_change_1h\": -1.67527808692154,\n",
      "               \"percentage_change_24h\": 3.96684816555754,\n",
      "               \"percentage_change_7d\": 17.1117995517451,\n",
      "               \"percent_change_1h\": -1.67527808692154,\n",
      "               \"percent_change_24h\": 3.96684816555754,\n",
      "               \"percent_change_7d\": 17.1117995517451\n",
      "            }\n",
      "         },\n",
      "         \"last_updated\": 1627835087\n",
      "      }\n",
      "   },\n",
      "   \"metadata\": {\n",
      "      \"timestamp\": 1627835087,\n",
      "      \"num_cryptocurrencies\": 3105,\n",
      "      \"error\": null\n",
      "   }\n",
      "}\n"
     ]
    }
   ],
   "source": [
    "# Using the Python requests library, make an API call to access the current price ETH\n",
    "eth_response = requests.get(eth_url).json()\n",
    "\n",
    "# Use the json.dumps function to review the response data from the API call\n",
    "# Use the indent and sort_keys parameters to make the response object readable\n",
    "print(json.dumps(eth_response, indent=3))\n"
   ]
  },
  {
   "cell_type": "markdown",
   "metadata": {},
   "source": [
    "#### Step 3: Navigate the JSON response object to access the current price of each coin, and store each in a variable."
   ]
  },
  {
   "cell_type": "code",
   "execution_count": 9,
   "metadata": {},
   "outputs": [
    {
     "name": "stdout",
     "output_type": "stream",
     "text": [
      "Bitcoin's current price as of 2021-08-01 is $40997.0\n"
     ]
    }
   ],
   "source": [
    "# Navigate the BTC response object to access the current price of BTC\n",
    "btc_price = btc_response[\"data\"][\"1\"][\"quotes\"][\"USD\"][\"price\"]\n",
    "\n",
    "# Print the current price of BTC\n",
    "print(f\"Bitcoin's current price as of {today_date} is ${btc_price}\")\n"
   ]
  },
  {
   "cell_type": "code",
   "execution_count": 10,
   "metadata": {},
   "outputs": [
    {
     "name": "stdout",
     "output_type": "stream",
     "text": [
      "Ethereum's current price as of 2021-08-01 is $2557.29\n"
     ]
    }
   ],
   "source": [
    "# Navigate the BTC response object to access the current price of ETH\n",
    "eth_price = eth_response[\"data\"][\"1027\"][\"quotes\"][\"USD\"][\"price\"]\n",
    "\n",
    "# Print the current price of ETH\n",
    "print(f\"Ethereum's current price as of {today_date} is ${eth_price}\")\n"
   ]
  },
  {
   "cell_type": "markdown",
   "metadata": {},
   "source": [
    "### Step 4: Calculate the value, in US dollars, of the current amount of each cryptocurrency and of the entire cryptocurrency wallet."
   ]
  },
  {
   "cell_type": "code",
   "execution_count": 11,
   "metadata": {},
   "outputs": [
    {
     "name": "stdout",
     "output_type": "stream",
     "text": [
      "The current value of your holdings in bitcoin is $ 49196.40\n"
     ]
    }
   ],
   "source": [
    "# Compute the current value of the BTC holding \n",
    "btc_value = btc_coins * btc_price\n",
    "\n",
    "# Print current value of your holding in BTC\n",
    "print(f\"The current value of your holdings in bitcoin is ${btc_value: .2f}\")\n"
   ]
  },
  {
   "cell_type": "code",
   "execution_count": 12,
   "metadata": {},
   "outputs": [
    {
     "name": "stdout",
     "output_type": "stream",
     "text": [
      "The current value of your holdings in Ethereum as of 2021-08-01 is $ 13553.64\n"
     ]
    }
   ],
   "source": [
    "# Compute the current value of the ETH holding \n",
    "eth_value = eth_coins * eth_price\n",
    "\n",
    "# Print current value of your holding in ETH\n",
    "print(f\"The current value of your holdings in Ethereum as of {today_date} is ${eth_value: .2f}\")\n"
   ]
  },
  {
   "cell_type": "code",
   "execution_count": 13,
   "metadata": {},
   "outputs": [
    {
     "name": "stdout",
     "output_type": "stream",
     "text": [
      "The current balance in your cryptocurrency wallet as of 2021-08-01 is $ 62750.04\n"
     ]
    }
   ],
   "source": [
    "# Compute the total value of the cryptocurrency wallet\n",
    "# Add the value of the BTC holding to the value of the ETH holding\n",
    "total_crypto_wallet = btc_value + eth_value\n",
    "\n",
    "# Print current cryptocurrency wallet balance\n",
    "print(f\"The current balance in your cryptocurrency wallet as of {today_date} is ${total_crypto_wallet: .2f}\")\n"
   ]
  },
  {
   "cell_type": "markdown",
   "metadata": {},
   "source": [
    "### Evaluate the Stock and Bond Holdings by Using the Alpaca SDK\n",
    "\n",
    "In this section, you’ll determine the current value of a member’s stock and bond holdings. You’ll make an API call to Alpaca via the Alpaca SDK to get the current closing prices of the SPDR S&P 500 ETF Trust (ticker: SPY) and of the iShares Core US Aggregate Bond ETF (ticker: AGG). For the prototype, assume that the member holds 110 shares of SPY, which represents the stock portion of their portfolio, and 200 shares of AGG, which represents the bond portion. To do all this, complete the following steps:\n",
    "\n",
    "1. In the `Starter_Code` folder, create an environment file (`.env`) to store the values of your Alpaca API key and Alpaca secret key.\n",
    "\n",
    "2. Set the variables for the Alpaca API and secret keys. Using the Alpaca SDK, create the Alpaca `tradeapi.REST` object. In this object, include the parameters for the Alpaca API key, the secret key, and the version number.\n",
    "\n",
    "3. Set the following parameters for the Alpaca API call:\n",
    "\n",
    "    - `tickers`: Use the tickers for the member’s stock and bond holdings.\n",
    "\n",
    "    - `timeframe`: Use a time frame of one day.\n",
    "\n",
    "    - `start_date` and `end_date`: Use the same date for these parameters, and format them with the date of the previous weekday (or `2020-08-07`). This is because you want the one closing price for the most-recent trading day.\n",
    "\n",
    "4. Get the current closing prices for `SPY` and `AGG` by using the Alpaca `get_barset` function. Format the response as a Pandas DataFrame by including the `df` property at the end of the `get_barset` function.\n",
    "\n",
    "5. Navigating the Alpaca response DataFrame, select the `SPY` and `AGG` closing prices, and store them as variables.\n",
    "\n",
    "6. Calculate the value, in US dollars, of the current amount of shares in each of the stock and bond portions of the portfolio, and print the results.\n"
   ]
  },
  {
   "cell_type": "markdown",
   "metadata": {},
   "source": [
    "#### Review the total number of shares held in both (SPY) and (AGG)."
   ]
  },
  {
   "cell_type": "code",
   "execution_count": 14,
   "metadata": {},
   "outputs": [],
   "source": [
    "# Current amount of shares held in both the stock (SPY) and bond (AGG) portion of the portfolio.\n",
    "spy_shares = 110\n",
    "agg_shares = 200\n"
   ]
  },
  {
   "cell_type": "markdown",
   "metadata": {},
   "source": [
    "#### Step 1: In the `Starter_Code` folder, create an environment file (`.env`) to store the values of your Alpaca API key and Alpaca secret key."
   ]
  },
  {
   "cell_type": "markdown",
   "metadata": {},
   "source": [
    "#### Step 2: Set the variables for the Alpaca API and secret keys. Using the Alpaca SDK, create the Alpaca `tradeapi.REST` object. In this object, include the parameters for the Alpaca API key, the secret key, and the version number."
   ]
  },
  {
   "cell_type": "code",
   "execution_count": 15,
   "metadata": {},
   "outputs": [],
   "source": [
    "# Set the variables for the Alpaca API and secret keys\n",
    "alpaca_api_key = os.getenv(\"ALPACA_API_KEY\")\n",
    "alpaca_secret_key = os.getenv(\"ALPACA_SECRET_KEY\")\n",
    "\n",
    "# Create the Alpaca tradeapi.REST object\n",
    "alpaca = tradeapi.REST(\n",
    "    alpaca_api_key,\n",
    "    alpaca_secret_key,\n",
    "    api_version = \"v2\"\n",
    ")\n"
   ]
  },
  {
   "cell_type": "markdown",
   "metadata": {},
   "source": [
    "#### Step 3: Set the following parameters for the Alpaca API call:\n",
    "\n",
    "- `tickers`: Use the tickers for the member’s stock and bond holdings.\n",
    "\n",
    "- `timeframe`: Use a time frame of one day.\n",
    "\n",
    "- `start_date` and `end_date`: Use the same date for these parameters, and format them with the date of the previous weekday (or `2020-08-07`). This is because you want the one closing price for the most-recent trading day.\n"
   ]
  },
  {
   "cell_type": "code",
   "execution_count": 16,
   "metadata": {},
   "outputs": [
    {
     "data": {
      "text/plain": [
       "('2021-07-30T00:00:00-04:00', '2021-08-01T00:00:00-04:00')"
      ]
     },
     "execution_count": 16,
     "metadata": {},
     "output_type": "execute_result"
    }
   ],
   "source": [
    "# Set the tickers for both the bond and stock portion of the portfolio\n",
    "tickers = [\"AGG\", \"SPY\"]\n",
    "\n",
    "# Set timeframe to 1D \n",
    "timeframe = \"1D\"\n",
    "\n",
    "# Format current date as ISO format\n",
    "# Set both the start and end date at the date of your prior weekday \n",
    "# This will give you the closing price of the previous trading day\n",
    "# Alternatively you can use a start and end date of 2020-08-07\n",
    "end_date = pd.Timestamp(today_date, tz=\"America/New_York\").isoformat()\n",
    "start_date = pd.Timestamp(str(datetime.datetime.now() - datetime.timedelta(days=2)).split()[0], tz=\"America/New_York\").isoformat()\n",
    "start_date, end_date"
   ]
  },
  {
   "cell_type": "markdown",
   "metadata": {},
   "source": [
    "#### Step 4: Get the current closing prices for `SPY` and `AGG` by using the Alpaca `get_barset` function. Format the response as a Pandas DataFrame by including the `df` property at the end of the `get_barset` function."
   ]
  },
  {
   "cell_type": "code",
   "execution_count": 17,
   "metadata": {},
   "outputs": [
    {
     "data": {
      "text/html": [
       "<div>\n",
       "<style scoped>\n",
       "    .dataframe tbody tr th:only-of-type {\n",
       "        vertical-align: middle;\n",
       "    }\n",
       "\n",
       "    .dataframe tbody tr th {\n",
       "        vertical-align: top;\n",
       "    }\n",
       "\n",
       "    .dataframe thead tr th {\n",
       "        text-align: left;\n",
       "    }\n",
       "\n",
       "    .dataframe thead tr:last-of-type th {\n",
       "        text-align: right;\n",
       "    }\n",
       "</style>\n",
       "<table border=\"1\" class=\"dataframe\">\n",
       "  <thead>\n",
       "    <tr>\n",
       "      <th></th>\n",
       "      <th colspan=\"5\" halign=\"left\">AGG</th>\n",
       "      <th colspan=\"5\" halign=\"left\">SPY</th>\n",
       "    </tr>\n",
       "    <tr>\n",
       "      <th></th>\n",
       "      <th>open</th>\n",
       "      <th>high</th>\n",
       "      <th>low</th>\n",
       "      <th>close</th>\n",
       "      <th>volume</th>\n",
       "      <th>open</th>\n",
       "      <th>high</th>\n",
       "      <th>low</th>\n",
       "      <th>close</th>\n",
       "      <th>volume</th>\n",
       "    </tr>\n",
       "    <tr>\n",
       "      <th>time</th>\n",
       "      <th></th>\n",
       "      <th></th>\n",
       "      <th></th>\n",
       "      <th></th>\n",
       "      <th></th>\n",
       "      <th></th>\n",
       "      <th></th>\n",
       "      <th></th>\n",
       "      <th></th>\n",
       "      <th></th>\n",
       "    </tr>\n",
       "  </thead>\n",
       "  <tbody>\n",
       "    <tr>\n",
       "      <th>2021-07-30 00:00:00-04:00</th>\n",
       "      <td>116.36</td>\n",
       "      <td>116.485</td>\n",
       "      <td>116.3532</td>\n",
       "      <td>116.45</td>\n",
       "      <td>4859650</td>\n",
       "      <td>437.91</td>\n",
       "      <td>440.06</td>\n",
       "      <td>437.77</td>\n",
       "      <td>438.49</td>\n",
       "      <td>56594282</td>\n",
       "    </tr>\n",
       "  </tbody>\n",
       "</table>\n",
       "</div>"
      ],
      "text/plain": [
       "                              AGG                                         SPY  \\\n",
       "                             open     high       low   close   volume    open   \n",
       "time                                                                            \n",
       "2021-07-30 00:00:00-04:00  116.36  116.485  116.3532  116.45  4859650  437.91   \n",
       "\n",
       "                                                             \n",
       "                             high     low   close    volume  \n",
       "time                                                         \n",
       "2021-07-30 00:00:00-04:00  440.06  437.77  438.49  56594282  "
      ]
     },
     "execution_count": 17,
     "metadata": {},
     "output_type": "execute_result"
    }
   ],
   "source": [
    "# Use the Alpaca get_barset function to get current closing prices the portfolio\n",
    "# Be sure to set the `df` property after the function to format the response object as a DataFrame\n",
    "port_price_df = alpaca.get_barset(\n",
    "    tickers,\n",
    "    timeframe,\n",
    "    start = start_date,\n",
    "    end = end_date\n",
    ").df\n",
    "\n",
    "# Review the first 5 rows of the Alpaca DataFrame\n",
    "port_price_df.head()\n"
   ]
  },
  {
   "cell_type": "markdown",
   "metadata": {},
   "source": [
    "#### Step 5: Navigating the Alpaca response DataFrame, select the `SPY` and `AGG` closing prices, and store them as variables."
   ]
  },
  {
   "cell_type": "code",
   "execution_count": 18,
   "metadata": {},
   "outputs": [
    {
     "name": "stdout",
     "output_type": "stream",
     "text": [
      "The current price of AGG at 2021-08-01 is $116.45\n"
     ]
    }
   ],
   "source": [
    "# Access the closing price for AGG from the Alpaca DataFrame\n",
    "# Converting the value to a floating point number\n",
    "agg_close_price = port_price_df[\"AGG\"][\"close\"]\n",
    "\n",
    "# Print the AGG closing price\n",
    "print(f\"The current price of AGG at {today_date} is ${agg_close_price.values[0]:,.2f}\")\n"
   ]
  },
  {
   "cell_type": "code",
   "execution_count": 19,
   "metadata": {},
   "outputs": [
    {
     "name": "stdout",
     "output_type": "stream",
     "text": [
      "The current price of SPY at 2021-08-01 is $438.49\n"
     ]
    }
   ],
   "source": [
    "# Access the closing price for SPY from the Alpaca DataFrame\n",
    "# Converting the value to a floating point number\n",
    "spy_close_price = port_price_df[\"SPY\"][\"close\"]\n",
    "\n",
    "# Print the SPY closing price\n",
    "print(f\"The current price of SPY at {today_date} is ${spy_close_price.values[0]:,.2f}\")\n"
   ]
  },
  {
   "cell_type": "markdown",
   "metadata": {},
   "source": [
    "#### Step 6: Calculate the value, in US dollars, of the current amount of shares in each of the stock and bond portions of the portfolio, and print the results."
   ]
  },
  {
   "cell_type": "code",
   "execution_count": 20,
   "metadata": {},
   "outputs": [
    {
     "name": "stdout",
     "output_type": "stream",
     "text": [
      "The current value of AGG bonds as of 2021-08-01 is $23290.0\n"
     ]
    }
   ],
   "source": [
    "# Calculate the current value of the bond portion of the portfolio\n",
    "agg_value = agg_shares * agg_close_price\n",
    "\n",
    "# Print the current value of the bond portfolio\n",
    "print(f\"The current value of AGG bonds as of {today_date} is ${agg_value.values[0]}\")\n"
   ]
  },
  {
   "cell_type": "code",
   "execution_count": 21,
   "metadata": {},
   "outputs": [
    {
     "name": "stdout",
     "output_type": "stream",
     "text": [
      "The current value of the SPY shares as of 2021-08-01 is $48233.9\n"
     ]
    }
   ],
   "source": [
    "# Calculate the current value of the stock portion of the portfolio\n",
    "spy_value = spy_shares * spy_close_price\n",
    "\n",
    "# Print the current value of the stock portfolio\n",
    "print(f\"The current value of the SPY shares as of {today_date} is ${spy_value.values[0]}\")\n"
   ]
  },
  {
   "cell_type": "code",
   "execution_count": 22,
   "metadata": {},
   "outputs": [
    {
     "name": "stdout",
     "output_type": "stream",
     "text": [
      "The current balance of the stock and bond portion of the portfolio on 2021-08-01 is $71523.9\n"
     ]
    }
   ],
   "source": [
    "# Calculate the total value of the stock and bond portion of the portfolio\n",
    "total_stocks_bonds = spy_value + agg_value\n",
    "\n",
    "# Print the current balance of the stock and bond portion of the portfolio\n",
    "print(f\"The current balance of the stock and bond portion of the portfolio on {today_date} is ${total_stocks_bonds.values[0]}\")\n"
   ]
  },
  {
   "cell_type": "code",
   "execution_count": 23,
   "metadata": {},
   "outputs": [
    {
     "name": "stdout",
     "output_type": "stream",
     "text": [
      "The current balance of the cryptocurrency wallet on 2021-08-01 is $62,750.04\n"
     ]
    }
   ],
   "source": [
    "# Print the current balance of the cryptocurrency wallet\n",
    "print(f\"The current balance of the cryptocurrency wallet on {today_date} is ${total_crypto_wallet:,.2f}\")"
   ]
  },
  {
   "cell_type": "code",
   "execution_count": 24,
   "metadata": {},
   "outputs": [
    {
     "name": "stdout",
     "output_type": "stream",
     "text": [
      "The total value of the portfolio on 2021-08-01 is  $134,273.94\n"
     ]
    }
   ],
   "source": [
    "# Calculate the total value of the member's entire savings portfolio\n",
    "# Add the value of the cryptocurrency walled to the value of the total stocks and bonds\n",
    "total_portfolio_value = total_crypto_wallet + total_stocks_bonds\n",
    "\n",
    "# Print the total balance\n",
    "print(f\"The total value of the portfolio on {today_date} is  ${total_portfolio_value.values[0]:,.2f}\")"
   ]
  },
  {
   "cell_type": "code",
   "execution_count": 25,
   "metadata": {},
   "outputs": [
    {
     "name": "stdout",
     "output_type": "stream",
     "text": [
      "Stock allocation: 35.92%, Bond allocation: 17.35%, Crypto allocation: 46.73%\n"
     ]
    }
   ],
   "source": [
    "# Portfolio Allocation\n",
    "stock_allocation = spy_value / total_portfolio_value * 100\n",
    "bond_allocation = agg_value / total_portfolio_value * 100\n",
    "crypto_allocation = total_crypto_wallet / total_portfolio_value * 100\n",
    "print(f\"Stock allocation: {stock_allocation.values[0]:,.2f}%, Bond allocation: {bond_allocation.values[0]:,.2f}%, Crypto allocation: {crypto_allocation.values[0]:,.2f}%\")"
   ]
  },
  {
   "cell_type": "markdown",
   "metadata": {},
   "source": [
    "### Evaluate the Emergency Fund\n",
    "\n",
    "In this section, you’ll use the valuations for the cryptocurrency wallet and for the stock and bond portions of the portfolio to determine if the credit union member has enough savings to build an emergency fund into their financial plan. To do this, complete the following steps:\n",
    "\n",
    "1. Create a Python list named `savings_data` that has two elements. The first element contains the total value of the cryptocurrency wallet. The second element contains the total value of the stock and bond portions of the portfolio.\n",
    "\n",
    "2. Use the `savings_data` list to create a Pandas DataFrame named `savings_df`, and then display this DataFrame. The function to create the DataFrame should take the following three parameters:\n",
    "\n",
    "    - `savings_data`: Use the list that you just created.\n",
    "\n",
    "    - `columns`: Set this parameter equal to a Python list with a single value called `amount`.\n",
    "\n",
    "    - `index`: Set this parameter equal to a Python list with the values of `crypto` and `stock/bond`.\n",
    "\n",
    "3. Use the `savings_df` DataFrame to plot a pie chart that visualizes the composition of the member’s portfolio. The y-axis of the pie chart uses `amount`. Be sure to add a title.\n",
    "\n",
    "4. Using Python, determine if the current portfolio has enough to create an emergency fund as part of the member’s financial plan. Ideally, an emergency fund should equal to three times the member’s monthly income. To do this, implement the following steps:\n",
    "\n",
    "    1. Create a variable named `emergency_fund_value`, and set it equal to three times the value of the member’s `monthly_income` of $12000. (You set this earlier in Part 1).\n",
    "\n",
    "    2. Create a series of three if statements to determine if the member’s total portfolio is large enough to fund the emergency portfolio:\n",
    "\n",
    "        1. If the total portfolio value is greater than the emergency fund value, display a message congratulating the member for having enough money in this fund.\n",
    "\n",
    "        2. Else if the total portfolio value is equal to the emergency fund value, display a message congratulating the member on reaching this important financial goal.\n",
    "\n",
    "        3. Else the total portfolio is less than the emergency fund value, so display a message showing how many dollars away the member is from reaching the goal. (Subtract the total portfolio value from the emergency fund value.)\n"
   ]
  },
  {
   "cell_type": "markdown",
   "metadata": {},
   "source": [
    "#### Step 1: Create a Python list named `savings_data` that has two elements. The first element contains the total value of the cryptocurrency wallet. The second element contains the total value of the stock and bond portions of the portfolio."
   ]
  },
  {
   "cell_type": "code",
   "execution_count": 26,
   "metadata": {},
   "outputs": [
    {
     "data": {
      "text/plain": [
       "[62750.037, 71523.9]"
      ]
     },
     "execution_count": 26,
     "metadata": {},
     "output_type": "execute_result"
    }
   ],
   "source": [
    "# Consolidate financial assets data into a Python list\n",
    "savings_data = [total_crypto_wallet, total_stocks_bonds.values[0]]\n",
    "# Review the Python list savings_data\n",
    "savings_data\n",
    "    "
   ]
  },
  {
   "cell_type": "markdown",
   "metadata": {},
   "source": [
    "#### Step 2: Use the `savings_data` list to create a Pandas DataFrame named `savings_df`, and then display this DataFrame. The function to create the DataFrame should take the following three parameters:\n",
    "\n",
    "- `savings_data`: Use the list that you just created.\n",
    "\n",
    "- `columns`: Set this parameter equal to a Python list with a single value called `amount`.\n",
    "\n",
    "- `index`: Set this parameter equal to a Python list with the values of `crypto` and `stock/bond`.\n"
   ]
  },
  {
   "cell_type": "code",
   "execution_count": 27,
   "metadata": {},
   "outputs": [
    {
     "data": {
      "text/html": [
       "<div>\n",
       "<style scoped>\n",
       "    .dataframe tbody tr th:only-of-type {\n",
       "        vertical-align: middle;\n",
       "    }\n",
       "\n",
       "    .dataframe tbody tr th {\n",
       "        vertical-align: top;\n",
       "    }\n",
       "\n",
       "    .dataframe thead th {\n",
       "        text-align: right;\n",
       "    }\n",
       "</style>\n",
       "<table border=\"1\" class=\"dataframe\">\n",
       "  <thead>\n",
       "    <tr style=\"text-align: right;\">\n",
       "      <th></th>\n",
       "      <th>amount</th>\n",
       "    </tr>\n",
       "  </thead>\n",
       "  <tbody>\n",
       "    <tr>\n",
       "      <th>crypto</th>\n",
       "      <td>62750.037</td>\n",
       "    </tr>\n",
       "    <tr>\n",
       "      <th>stock/bond</th>\n",
       "      <td>71523.900</td>\n",
       "    </tr>\n",
       "  </tbody>\n",
       "</table>\n",
       "</div>"
      ],
      "text/plain": [
       "               amount\n",
       "crypto      62750.037\n",
       "stock/bond  71523.900"
      ]
     },
     "metadata": {},
     "output_type": "display_data"
    }
   ],
   "source": [
    "# Create a Pandas DataFrame called savings_df \n",
    "savings_df = pd.DataFrame(savings_data,\n",
    "                         columns = [\"amount\"],\n",
    "                          index = [\"crypto\", \"stock/bond\"])\n",
    "\n",
    "# Display the savings_df DataFrame\n",
    "display(savings_df)\n"
   ]
  },
  {
   "cell_type": "markdown",
   "metadata": {},
   "source": [
    "#### Step 3: Use the `savings_df` DataFrame to plot a pie chart that visualizes the composition of the member’s portfolio. The y-axis of the pie chart uses `amount`. Be sure to add a title."
   ]
  },
  {
   "cell_type": "code",
   "execution_count": 28,
   "metadata": {},
   "outputs": [
    {
     "data": {
      "text/plain": [
       "<AxesSubplot:title={'center':'Total Portfolio Composition'}, ylabel='amount'>"
      ]
     },
     "execution_count": 28,
     "metadata": {},
     "output_type": "execute_result"
    },
    {
     "data": {
      "image/png": "[encoded data removed]",
      "text/plain": [
       "<Figure size 432x288 with 1 Axes>"
      ]
     },
     "metadata": {},
     "output_type": "display_data"
    }
   ],
   "source": [
    "# Plot the total value of the member's portfolio (crypto and stock/bond) in a pie chart\n",
    "savings_df.plot.pie(y=\"amount\", title=\"Total Portfolio Composition\")\n"
   ]
  },
  {
   "cell_type": "markdown",
   "metadata": {},
   "source": [
    "#### Step 4: Using Python, determine if the current portfolio has enough to create an emergency fund as part of the member’s financial plan. Ideally, an emergency fund should equal to three times the member’s monthly income. To do this, implement the following steps:\n",
    "\n",
    "Step 1. Create a variable named `emergency_fund_value`, and set it equal to three times the value of the member’s `monthly_income` of 12000. (You set this earlier in Part 1).\n",
    "\n",
    "Step 2. Create a series of three if statements to determine if the member’s total portfolio is large enough to fund the emergency portfolio:\n",
    "\n",
    "* If the total portfolio value is greater than the emergency fund value, display a message congratulating the member for having enough money in this fund.\n",
    "\n",
    "* Else if the total portfolio value is equal to the emergency fund value, display a message congratulating the member on reaching this important financial goal.\n",
    "\n",
    "* Else the total portfolio is less than the emergency fund value, so display a message showing how many dollars away the member is from reaching the goal. (Subtract the total portfolio value from the emergency fund value.)\n"
   ]
  },
  {
   "cell_type": "markdown",
   "metadata": {},
   "source": [
    "##### Step 4-1: Create a variable named `emergency_fund_value`, and set it equal to three times the value of the member’s `monthly_income` of 12000. (You set this earlier in Part 1)."
   ]
  },
  {
   "cell_type": "code",
   "execution_count": 29,
   "metadata": {},
   "outputs": [
    {
     "data": {
      "text/plain": [
       "36000"
      ]
     },
     "execution_count": 29,
     "metadata": {},
     "output_type": "execute_result"
    }
   ],
   "source": [
    "# Create a variable named emergency_fund_value\n",
    "emergency_fund_value = monthly_income * 3\n",
    "emergency_fund_value"
   ]
  },
  {
   "cell_type": "markdown",
   "metadata": {},
   "source": [
    "##### Step 4-2: Create a series of three if statements to determine if the member’s total portfolio is large enough to fund the emergency portfolio:\n",
    "\n",
    "* If the total portfolio value is greater than the emergency fund value, display a message congratulating the member for having enough money in this fund.\n",
    "\n",
    "* Else if the total portfolio value is equal to the emergency fund value, display a message congratulating the member on reaching this important financial goal.\n",
    "\n",
    "* Else the total portfolio is less than the emergency fund value, so display a message showing how many dollars away the member is from reaching the goal. (Subtract the total portfolio value from the emergency fund value.)"
   ]
  },
  {
   "cell_type": "code",
   "execution_count": 30,
   "metadata": {},
   "outputs": [
    {
     "name": "stdout",
     "output_type": "stream",
     "text": [
      "Congratulations! You have enough money in this fund given your limit!\n"
     ]
    }
   ],
   "source": [
    "# Evaluate the possibility of creating an emergency fund with 3 conditions:\n",
    "if \"emergency_fund_value\" < \"total_portfolio_value\":\n",
    "    print(f\"Congratulations! You have enough money in this fund given your limit!\")\n",
    "elif \"total_portfolio_value\" == \"emergency_fund_value\":\n",
    "    print(f\"Congratulations! You have met the goal you set!\")\n",
    "else:\n",
    "    print(f\"You are {emergency_fund_value - total_portfolio_value} from meeting your goal.\")"
   ]
  },
  {
   "cell_type": "markdown",
   "metadata": {},
   "source": [
    "## Part 2: Create a Financial Planner for Retirement"
   ]
  },
  {
   "cell_type": "markdown",
   "metadata": {},
   "source": [
    "### Create the Monte Carlo Simulation\n",
    "\n",
    "In this section, you’ll use the MCForecastTools library to create a Monte Carlo simulation for the member’s savings portfolio. To do this, complete the following steps:\n",
    "\n",
    "1. Make an API call via the Alpaca SDK to get 3 years of historical closing prices for a traditional 60/40 portfolio split: 60% stocks (SPY) and 40% bonds (AGG).\n",
    "\n",
    "2. Run a Monte Carlo simulation of 500 samples and 30 years for the 60/40 portfolio, and then plot the results.The following image shows the overlay line plot resulting from a simulation with these characteristics. However, because a random number generator is used to run each live Monte Carlo simulation, your image will differ slightly from this exact image:\n",
    "\n",
    "![A screenshot depicts the resulting plot.](Images/5-4-monte-carlo-line-plot.png)\n",
    "\n",
    "3. Plot the probability distribution of the Monte Carlo simulation. Plot the probability distribution of the Monte Carlo simulation. The following image shows the histogram plot resulting from a simulation with these characteristics. However, because a random number generator is used to run each live Monte Carlo simulation, your image will differ slightly from this exact image:\n",
    "\n",
    "![A screenshot depicts the histogram plot.](Images/5-4-monte-carlo-histogram.png)\n",
    "\n",
    "4. Generate the summary statistics for the Monte Carlo simulation.\n",
    "\n"
   ]
  },
  {
   "cell_type": "markdown",
   "metadata": {},
   "source": [
    "#### Step 1: Make an API call via the Alpaca SDK to get 3 years of historical closing prices for a traditional 60/40 portfolio split: 60% stocks (SPY) and 40% bonds (AGG)."
   ]
  },
  {
   "cell_type": "code",
   "execution_count": 31,
   "metadata": {},
   "outputs": [
    {
     "data": {
      "text/plain": [
       "('2018-08-02', '2021-08-01')"
      ]
     },
     "execution_count": 31,
     "metadata": {},
     "output_type": "execute_result"
    }
   ],
   "source": [
    "import pandas as pd\n",
    "# Set start and end dates of 3 years back from your current date\n",
    "# Alternatively, you can use an end date of 2020-08-07 and work 3 years back from that date \n",
    "start_date = str(datetime.datetime.now() - datetime.timedelta(days=3*365)).split()[0]\n",
    "end_date = str(datetime.datetime.now()).split()[0]\n",
    "#start_date = pd.Timestamp(\"2017-07-31\").isoformat()\n",
    "#end_date = pd.Timestamp(\"2020-07-31\").isoformat()\n",
    "# Set number of rows to 1000 to retrieve the maximum amount of rows\n",
    "rows = 1000\n",
    "start_date, end_date"
   ]
  },
  {
   "cell_type": "code",
   "execution_count": 32,
   "metadata": {},
   "outputs": [
    {
     "data": {
      "text/html": [
       "<div>\n",
       "<style scoped>\n",
       "    .dataframe tbody tr th:only-of-type {\n",
       "        vertical-align: middle;\n",
       "    }\n",
       "\n",
       "    .dataframe tbody tr th {\n",
       "        vertical-align: top;\n",
       "    }\n",
       "\n",
       "    .dataframe thead tr th {\n",
       "        text-align: left;\n",
       "    }\n",
       "\n",
       "    .dataframe thead tr:last-of-type th {\n",
       "        text-align: right;\n",
       "    }\n",
       "</style>\n",
       "<table border=\"1\" class=\"dataframe\">\n",
       "  <thead>\n",
       "    <tr>\n",
       "      <th></th>\n",
       "      <th colspan=\"5\" halign=\"left\">AGG</th>\n",
       "      <th colspan=\"5\" halign=\"left\">SPY</th>\n",
       "    </tr>\n",
       "    <tr>\n",
       "      <th></th>\n",
       "      <th>open</th>\n",
       "      <th>high</th>\n",
       "      <th>low</th>\n",
       "      <th>close</th>\n",
       "      <th>volume</th>\n",
       "      <th>open</th>\n",
       "      <th>high</th>\n",
       "      <th>low</th>\n",
       "      <th>close</th>\n",
       "      <th>volume</th>\n",
       "    </tr>\n",
       "    <tr>\n",
       "      <th>time</th>\n",
       "      <th></th>\n",
       "      <th></th>\n",
       "      <th></th>\n",
       "      <th></th>\n",
       "      <th></th>\n",
       "      <th></th>\n",
       "      <th></th>\n",
       "      <th></th>\n",
       "      <th></th>\n",
       "      <th></th>\n",
       "    </tr>\n",
       "  </thead>\n",
       "  <tbody>\n",
       "    <tr>\n",
       "      <th>2017-08-10 00:00:00-04:00</th>\n",
       "      <td>109.70</td>\n",
       "      <td>109.8500</td>\n",
       "      <td>109.67</td>\n",
       "      <td>109.8053</td>\n",
       "      <td>1691677</td>\n",
       "      <td>246.28</td>\n",
       "      <td>246.44</td>\n",
       "      <td>243.70</td>\n",
       "      <td>243.79</td>\n",
       "      <td>87857827</td>\n",
       "    </tr>\n",
       "    <tr>\n",
       "      <th>2017-08-11 00:00:00-04:00</th>\n",
       "      <td>109.75</td>\n",
       "      <td>109.9400</td>\n",
       "      <td>109.68</td>\n",
       "      <td>109.8850</td>\n",
       "      <td>1613467</td>\n",
       "      <td>244.02</td>\n",
       "      <td>244.80</td>\n",
       "      <td>243.75</td>\n",
       "      <td>244.11</td>\n",
       "      <td>56404847</td>\n",
       "    </tr>\n",
       "    <tr>\n",
       "      <th>2017-08-14 00:00:00-04:00</th>\n",
       "      <td>109.84</td>\n",
       "      <td>109.8969</td>\n",
       "      <td>109.74</td>\n",
       "      <td>109.8100</td>\n",
       "      <td>2002026</td>\n",
       "      <td>245.59</td>\n",
       "      <td>246.79</td>\n",
       "      <td>245.55</td>\n",
       "      <td>246.52</td>\n",
       "      <td>49018104</td>\n",
       "    </tr>\n",
       "    <tr>\n",
       "      <th>2017-08-15 00:00:00-04:00</th>\n",
       "      <td>109.56</td>\n",
       "      <td>109.7150</td>\n",
       "      <td>109.56</td>\n",
       "      <td>109.6500</td>\n",
       "      <td>1585338</td>\n",
       "      <td>246.98</td>\n",
       "      <td>247.00</td>\n",
       "      <td>246.16</td>\n",
       "      <td>246.53</td>\n",
       "      <td>35274867</td>\n",
       "    </tr>\n",
       "    <tr>\n",
       "      <th>2017-08-16 00:00:00-04:00</th>\n",
       "      <td>109.54</td>\n",
       "      <td>109.9300</td>\n",
       "      <td>109.54</td>\n",
       "      <td>109.8400</td>\n",
       "      <td>1570272</td>\n",
       "      <td>247.11</td>\n",
       "      <td>247.57</td>\n",
       "      <td>246.45</td>\n",
       "      <td>246.92</td>\n",
       "      <td>44955596</td>\n",
       "    </tr>\n",
       "  </tbody>\n",
       "</table>\n",
       "</div>"
      ],
      "text/plain": [
       "                              AGG                                       \\\n",
       "                             open      high     low     close   volume   \n",
       "time                                                                     \n",
       "2017-08-10 00:00:00-04:00  109.70  109.8500  109.67  109.8053  1691677   \n",
       "2017-08-11 00:00:00-04:00  109.75  109.9400  109.68  109.8850  1613467   \n",
       "2017-08-14 00:00:00-04:00  109.84  109.8969  109.74  109.8100  2002026   \n",
       "2017-08-15 00:00:00-04:00  109.56  109.7150  109.56  109.6500  1585338   \n",
       "2017-08-16 00:00:00-04:00  109.54  109.9300  109.54  109.8400  1570272   \n",
       "\n",
       "                              SPY                                    \n",
       "                             open    high     low   close    volume  \n",
       "time                                                                 \n",
       "2017-08-10 00:00:00-04:00  246.28  246.44  243.70  243.79  87857827  \n",
       "2017-08-11 00:00:00-04:00  244.02  244.80  243.75  244.11  56404847  \n",
       "2017-08-14 00:00:00-04:00  245.59  246.79  245.55  246.52  49018104  \n",
       "2017-08-15 00:00:00-04:00  246.98  247.00  246.16  246.53  35274867  \n",
       "2017-08-16 00:00:00-04:00  247.11  247.57  246.45  246.92  44955596  "
      ]
     },
     "metadata": {},
     "output_type": "display_data"
    },
    {
     "data": {
      "text/html": [
       "<div>\n",
       "<style scoped>\n",
       "    .dataframe tbody tr th:only-of-type {\n",
       "        vertical-align: middle;\n",
       "    }\n",
       "\n",
       "    .dataframe tbody tr th {\n",
       "        vertical-align: top;\n",
       "    }\n",
       "\n",
       "    .dataframe thead tr th {\n",
       "        text-align: left;\n",
       "    }\n",
       "\n",
       "    .dataframe thead tr:last-of-type th {\n",
       "        text-align: right;\n",
       "    }\n",
       "</style>\n",
       "<table border=\"1\" class=\"dataframe\">\n",
       "  <thead>\n",
       "    <tr>\n",
       "      <th></th>\n",
       "      <th colspan=\"5\" halign=\"left\">AGG</th>\n",
       "      <th colspan=\"5\" halign=\"left\">SPY</th>\n",
       "    </tr>\n",
       "    <tr>\n",
       "      <th></th>\n",
       "      <th>open</th>\n",
       "      <th>high</th>\n",
       "      <th>low</th>\n",
       "      <th>close</th>\n",
       "      <th>volume</th>\n",
       "      <th>open</th>\n",
       "      <th>high</th>\n",
       "      <th>low</th>\n",
       "      <th>close</th>\n",
       "      <th>volume</th>\n",
       "    </tr>\n",
       "    <tr>\n",
       "      <th>time</th>\n",
       "      <th></th>\n",
       "      <th></th>\n",
       "      <th></th>\n",
       "      <th></th>\n",
       "      <th></th>\n",
       "      <th></th>\n",
       "      <th></th>\n",
       "      <th></th>\n",
       "      <th></th>\n",
       "      <th></th>\n",
       "    </tr>\n",
       "  </thead>\n",
       "  <tbody>\n",
       "    <tr>\n",
       "      <th>2021-07-26 00:00:00-04:00</th>\n",
       "      <td>116.30</td>\n",
       "      <td>116.330</td>\n",
       "      <td>116.0850</td>\n",
       "      <td>116.11</td>\n",
       "      <td>7028009</td>\n",
       "      <td>439.31</td>\n",
       "      <td>441.03</td>\n",
       "      <td>439.26</td>\n",
       "      <td>440.99</td>\n",
       "      <td>40155852</td>\n",
       "    </tr>\n",
       "    <tr>\n",
       "      <th>2021-07-27 00:00:00-04:00</th>\n",
       "      <td>116.35</td>\n",
       "      <td>116.400</td>\n",
       "      <td>116.2727</td>\n",
       "      <td>116.39</td>\n",
       "      <td>4669859</td>\n",
       "      <td>439.91</td>\n",
       "      <td>439.94</td>\n",
       "      <td>435.99</td>\n",
       "      <td>439.00</td>\n",
       "      <td>61032234</td>\n",
       "    </tr>\n",
       "    <tr>\n",
       "      <th>2021-07-28 00:00:00-04:00</th>\n",
       "      <td>116.24</td>\n",
       "      <td>116.490</td>\n",
       "      <td>116.1400</td>\n",
       "      <td>116.48</td>\n",
       "      <td>5189696</td>\n",
       "      <td>439.68</td>\n",
       "      <td>440.30</td>\n",
       "      <td>437.31</td>\n",
       "      <td>438.84</td>\n",
       "      <td>47642330</td>\n",
       "    </tr>\n",
       "    <tr>\n",
       "      <th>2021-07-29 00:00:00-04:00</th>\n",
       "      <td>116.29</td>\n",
       "      <td>116.360</td>\n",
       "      <td>116.2250</td>\n",
       "      <td>116.28</td>\n",
       "      <td>5216456</td>\n",
       "      <td>439.83</td>\n",
       "      <td>441.80</td>\n",
       "      <td>439.81</td>\n",
       "      <td>440.67</td>\n",
       "      <td>40930880</td>\n",
       "    </tr>\n",
       "    <tr>\n",
       "      <th>2021-07-30 00:00:00-04:00</th>\n",
       "      <td>116.36</td>\n",
       "      <td>116.485</td>\n",
       "      <td>116.3532</td>\n",
       "      <td>116.45</td>\n",
       "      <td>4859650</td>\n",
       "      <td>437.91</td>\n",
       "      <td>440.06</td>\n",
       "      <td>437.77</td>\n",
       "      <td>438.49</td>\n",
       "      <td>56594282</td>\n",
       "    </tr>\n",
       "  </tbody>\n",
       "</table>\n",
       "</div>"
      ],
      "text/plain": [
       "                              AGG                                         SPY  \\\n",
       "                             open     high       low   close   volume    open   \n",
       "time                                                                            \n",
       "2021-07-26 00:00:00-04:00  116.30  116.330  116.0850  116.11  7028009  439.31   \n",
       "2021-07-27 00:00:00-04:00  116.35  116.400  116.2727  116.39  4669859  439.91   \n",
       "2021-07-28 00:00:00-04:00  116.24  116.490  116.1400  116.48  5189696  439.68   \n",
       "2021-07-29 00:00:00-04:00  116.29  116.360  116.2250  116.28  5216456  439.83   \n",
       "2021-07-30 00:00:00-04:00  116.36  116.485  116.3532  116.45  4859650  437.91   \n",
       "\n",
       "                                                             \n",
       "                             high     low   close    volume  \n",
       "time                                                         \n",
       "2021-07-26 00:00:00-04:00  441.03  439.26  440.99  40155852  \n",
       "2021-07-27 00:00:00-04:00  439.94  435.99  439.00  61032234  \n",
       "2021-07-28 00:00:00-04:00  440.30  437.31  438.84  47642330  \n",
       "2021-07-29 00:00:00-04:00  441.80  439.81  440.67  40930880  \n",
       "2021-07-30 00:00:00-04:00  440.06  437.77  438.49  56594282  "
      ]
     },
     "metadata": {},
     "output_type": "display_data"
    }
   ],
   "source": [
    "# Use the Alpaca get_barset function to make the API call to get the 3 years worth of pricing data\n",
    "# The tickers and timeframe parameters should have been set in Part 1 of this activity \n",
    "# The start and end dates should be updated with the information set above\n",
    "# Remember to add the df property to the end of the call so the response is returned as a DataFrame\n",
    "traditional_portfolio = alpaca.get_barset(\n",
    "    tickers,\n",
    "    timeframe,\n",
    "    start = start_date,\n",
    "    end = end_date,\n",
    "    limit = rows\n",
    ").df\n",
    "\n",
    "\n",
    "# Display both the first and last five rows of the DataFrame\n",
    "display(traditional_portfolio.head())\n",
    "display(traditional_portfolio.tail())\n"
   ]
  },
  {
   "cell_type": "markdown",
   "metadata": {},
   "source": [
    "#### Step 2: Run a Monte Carlo simulation of 500 samples and 30 years for the 60/40 portfolio, and then plot the results."
   ]
  },
  {
   "cell_type": "code",
   "execution_count": 33,
   "metadata": {},
   "outputs": [
    {
     "data": {
      "text/html": [
       "<div>\n",
       "<style scoped>\n",
       "    .dataframe tbody tr th:only-of-type {\n",
       "        vertical-align: middle;\n",
       "    }\n",
       "\n",
       "    .dataframe tbody tr th {\n",
       "        vertical-align: top;\n",
       "    }\n",
       "\n",
       "    .dataframe thead tr th {\n",
       "        text-align: left;\n",
       "    }\n",
       "\n",
       "    .dataframe thead tr:last-of-type th {\n",
       "        text-align: right;\n",
       "    }\n",
       "</style>\n",
       "<table border=\"1\" class=\"dataframe\">\n",
       "  <thead>\n",
       "    <tr>\n",
       "      <th></th>\n",
       "      <th colspan=\"6\" halign=\"left\">AGG</th>\n",
       "      <th colspan=\"6\" halign=\"left\">SPY</th>\n",
       "    </tr>\n",
       "    <tr>\n",
       "      <th></th>\n",
       "      <th>open</th>\n",
       "      <th>high</th>\n",
       "      <th>low</th>\n",
       "      <th>close</th>\n",
       "      <th>volume</th>\n",
       "      <th>daily_return</th>\n",
       "      <th>open</th>\n",
       "      <th>high</th>\n",
       "      <th>low</th>\n",
       "      <th>close</th>\n",
       "      <th>volume</th>\n",
       "      <th>daily_return</th>\n",
       "    </tr>\n",
       "    <tr>\n",
       "      <th>time</th>\n",
       "      <th></th>\n",
       "      <th></th>\n",
       "      <th></th>\n",
       "      <th></th>\n",
       "      <th></th>\n",
       "      <th></th>\n",
       "      <th></th>\n",
       "      <th></th>\n",
       "      <th></th>\n",
       "      <th></th>\n",
       "      <th></th>\n",
       "      <th></th>\n",
       "    </tr>\n",
       "  </thead>\n",
       "  <tbody>\n",
       "    <tr>\n",
       "      <th>2017-08-10 00:00:00-04:00</th>\n",
       "      <td>109.70</td>\n",
       "      <td>109.8500</td>\n",
       "      <td>109.67</td>\n",
       "      <td>109.8053</td>\n",
       "      <td>1691677</td>\n",
       "      <td>NaN</td>\n",
       "      <td>246.28</td>\n",
       "      <td>246.44</td>\n",
       "      <td>243.70</td>\n",
       "      <td>243.79</td>\n",
       "      <td>87857827</td>\n",
       "      <td>NaN</td>\n",
       "    </tr>\n",
       "    <tr>\n",
       "      <th>2017-08-11 00:00:00-04:00</th>\n",
       "      <td>109.75</td>\n",
       "      <td>109.9400</td>\n",
       "      <td>109.68</td>\n",
       "      <td>109.8850</td>\n",
       "      <td>1613467</td>\n",
       "      <td>0.000726</td>\n",
       "      <td>244.02</td>\n",
       "      <td>244.80</td>\n",
       "      <td>243.75</td>\n",
       "      <td>244.11</td>\n",
       "      <td>56404847</td>\n",
       "      <td>0.001313</td>\n",
       "    </tr>\n",
       "    <tr>\n",
       "      <th>2017-08-14 00:00:00-04:00</th>\n",
       "      <td>109.84</td>\n",
       "      <td>109.8969</td>\n",
       "      <td>109.74</td>\n",
       "      <td>109.8100</td>\n",
       "      <td>2002026</td>\n",
       "      <td>-0.000683</td>\n",
       "      <td>245.59</td>\n",
       "      <td>246.79</td>\n",
       "      <td>245.55</td>\n",
       "      <td>246.52</td>\n",
       "      <td>49018104</td>\n",
       "      <td>0.009873</td>\n",
       "    </tr>\n",
       "    <tr>\n",
       "      <th>2017-08-15 00:00:00-04:00</th>\n",
       "      <td>109.56</td>\n",
       "      <td>109.7150</td>\n",
       "      <td>109.56</td>\n",
       "      <td>109.6500</td>\n",
       "      <td>1585338</td>\n",
       "      <td>-0.001457</td>\n",
       "      <td>246.98</td>\n",
       "      <td>247.00</td>\n",
       "      <td>246.16</td>\n",
       "      <td>246.53</td>\n",
       "      <td>35274867</td>\n",
       "      <td>0.000041</td>\n",
       "    </tr>\n",
       "    <tr>\n",
       "      <th>2017-08-16 00:00:00-04:00</th>\n",
       "      <td>109.54</td>\n",
       "      <td>109.9300</td>\n",
       "      <td>109.54</td>\n",
       "      <td>109.8400</td>\n",
       "      <td>1570272</td>\n",
       "      <td>0.001733</td>\n",
       "      <td>247.11</td>\n",
       "      <td>247.57</td>\n",
       "      <td>246.45</td>\n",
       "      <td>246.92</td>\n",
       "      <td>44955596</td>\n",
       "      <td>0.001582</td>\n",
       "    </tr>\n",
       "  </tbody>\n",
       "</table>\n",
       "</div>"
      ],
      "text/plain": [
       "                              AGG                                       \\\n",
       "                             open      high     low     close   volume   \n",
       "time                                                                     \n",
       "2017-08-10 00:00:00-04:00  109.70  109.8500  109.67  109.8053  1691677   \n",
       "2017-08-11 00:00:00-04:00  109.75  109.9400  109.68  109.8850  1613467   \n",
       "2017-08-14 00:00:00-04:00  109.84  109.8969  109.74  109.8100  2002026   \n",
       "2017-08-15 00:00:00-04:00  109.56  109.7150  109.56  109.6500  1585338   \n",
       "2017-08-16 00:00:00-04:00  109.54  109.9300  109.54  109.8400  1570272   \n",
       "\n",
       "                                           SPY                          \\\n",
       "                          daily_return    open    high     low   close   \n",
       "time                                                                     \n",
       "2017-08-10 00:00:00-04:00          NaN  246.28  246.44  243.70  243.79   \n",
       "2017-08-11 00:00:00-04:00     0.000726  244.02  244.80  243.75  244.11   \n",
       "2017-08-14 00:00:00-04:00    -0.000683  245.59  246.79  245.55  246.52   \n",
       "2017-08-15 00:00:00-04:00    -0.001457  246.98  247.00  246.16  246.53   \n",
       "2017-08-16 00:00:00-04:00     0.001733  247.11  247.57  246.45  246.92   \n",
       "\n",
       "                                                  \n",
       "                             volume daily_return  \n",
       "time                                              \n",
       "2017-08-10 00:00:00-04:00  87857827          NaN  \n",
       "2017-08-11 00:00:00-04:00  56404847     0.001313  \n",
       "2017-08-14 00:00:00-04:00  49018104     0.009873  \n",
       "2017-08-15 00:00:00-04:00  35274867     0.000041  \n",
       "2017-08-16 00:00:00-04:00  44955596     0.001582  "
      ]
     },
     "execution_count": 33,
     "metadata": {},
     "output_type": "execute_result"
    }
   ],
   "source": [
    "# Configure the Monte Carlo simulation to forecast 30 years cumulative returns\n",
    "# The weights should be split 40% to AGG and 60% to SPY.\n",
    "thirty_year_simulation = MCSimulation(\n",
    "    portfolio_data=traditional_portfolio,\n",
    "    weights=[0.40, 0.60],\n",
    "    num_simulation=500,\n",
    "    num_trading_days=252*30,\n",
    ")\n",
    "\n",
    "# Review the simulation input data\n",
    "thirty_year_simulation.portfolio_data.head()\n"
   ]
  },
  {
   "cell_type": "code",
   "execution_count": 34,
   "metadata": {},
   "outputs": [
    {
     "name": "stdout",
     "output_type": "stream",
     "text": [
      "Running Monte Carlo simulation number 0.\n",
      "Running Monte Carlo simulation number 10.\n",
      "Running Monte Carlo simulation number 20.\n",
      "Running Monte Carlo simulation number 30.\n",
      "Running Monte Carlo simulation number 40.\n",
      "Running Monte Carlo simulation number 50.\n",
      "Running Monte Carlo simulation number 60.\n",
      "Running Monte Carlo simulation number 70.\n",
      "Running Monte Carlo simulation number 80.\n",
      "Running Monte Carlo simulation number 90.\n",
      "Running Monte Carlo simulation number 100.\n",
      "Running Monte Carlo simulation number 110.\n",
      "Running Monte Carlo simulation number 120.\n",
      "Running Monte Carlo simulation number 130.\n",
      "Running Monte Carlo simulation number 140.\n",
      "Running Monte Carlo simulation number 150.\n",
      "Running Monte Carlo simulation number 160.\n",
      "Running Monte Carlo simulation number 170.\n",
      "Running Monte Carlo simulation number 180.\n",
      "Running Monte Carlo simulation number 190.\n",
      "Running Monte Carlo simulation number 200.\n",
      "Running Monte Carlo simulation number 210.\n",
      "Running Monte Carlo simulation number 220.\n",
      "Running Monte Carlo simulation number 230.\n",
      "Running Monte Carlo simulation number 240.\n",
      "Running Monte Carlo simulation number 250.\n",
      "Running Monte Carlo simulation number 260.\n",
      "Running Monte Carlo simulation number 270.\n",
      "Running Monte Carlo simulation number 280.\n",
      "Running Monte Carlo simulation number 290.\n",
      "Running Monte Carlo simulation number 300.\n",
      "Running Monte Carlo simulation number 310.\n",
      "Running Monte Carlo simulation number 320.\n",
      "Running Monte Carlo simulation number 330.\n",
      "Running Monte Carlo simulation number 340.\n",
      "Running Monte Carlo simulation number 350.\n",
      "Running Monte Carlo simulation number 360.\n",
      "Running Monte Carlo simulation number 370.\n",
      "Running Monte Carlo simulation number 380.\n",
      "Running Monte Carlo simulation number 390.\n",
      "Running Monte Carlo simulation number 400.\n",
      "Running Monte Carlo simulation number 410.\n",
      "Running Monte Carlo simulation number 420.\n",
      "Running Monte Carlo simulation number 430.\n",
      "Running Monte Carlo simulation number 440.\n",
      "Running Monte Carlo simulation number 450.\n",
      "Running Monte Carlo simulation number 460.\n",
      "Running Monte Carlo simulation number 470.\n",
      "Running Monte Carlo simulation number 480.\n",
      "Running Monte Carlo simulation number 490.\n"
     ]
    },
    {
     "data": {
      "text/html": [
       "<div>\n",
       "<style scoped>\n",
       "    .dataframe tbody tr th:only-of-type {\n",
       "        vertical-align: middle;\n",
       "    }\n",
       "\n",
       "    .dataframe tbody tr th {\n",
       "        vertical-align: top;\n",
       "    }\n",
       "\n",
       "    .dataframe thead th {\n",
       "        text-align: right;\n",
       "    }\n",
       "</style>\n",
       "<table border=\"1\" class=\"dataframe\">\n",
       "  <thead>\n",
       "    <tr style=\"text-align: right;\">\n",
       "      <th></th>\n",
       "      <th>0</th>\n",
       "      <th>1</th>\n",
       "      <th>2</th>\n",
       "      <th>3</th>\n",
       "      <th>4</th>\n",
       "      <th>5</th>\n",
       "      <th>6</th>\n",
       "      <th>7</th>\n",
       "      <th>8</th>\n",
       "      <th>9</th>\n",
       "      <th>...</th>\n",
       "      <th>490</th>\n",
       "      <th>491</th>\n",
       "      <th>492</th>\n",
       "      <th>493</th>\n",
       "      <th>494</th>\n",
       "      <th>495</th>\n",
       "      <th>496</th>\n",
       "      <th>497</th>\n",
       "      <th>498</th>\n",
       "      <th>499</th>\n",
       "    </tr>\n",
       "  </thead>\n",
       "  <tbody>\n",
       "    <tr>\n",
       "      <th>0</th>\n",
       "      <td>1.000000</td>\n",
       "      <td>1.000000</td>\n",
       "      <td>1.000000</td>\n",
       "      <td>1.000000</td>\n",
       "      <td>1.000000</td>\n",
       "      <td>1.000000</td>\n",
       "      <td>1.000000</td>\n",
       "      <td>1.000000</td>\n",
       "      <td>1.000000</td>\n",
       "      <td>1.000000</td>\n",
       "      <td>...</td>\n",
       "      <td>1.000000</td>\n",
       "      <td>1.000000</td>\n",
       "      <td>1.000000</td>\n",
       "      <td>1.000000</td>\n",
       "      <td>1.000000</td>\n",
       "      <td>1.000000</td>\n",
       "      <td>1.000000</td>\n",
       "      <td>1.000000</td>\n",
       "      <td>1.000000</td>\n",
       "      <td>1.000000</td>\n",
       "    </tr>\n",
       "    <tr>\n",
       "      <th>1</th>\n",
       "      <td>0.992380</td>\n",
       "      <td>1.010288</td>\n",
       "      <td>0.998831</td>\n",
       "      <td>1.007173</td>\n",
       "      <td>0.996953</td>\n",
       "      <td>1.013038</td>\n",
       "      <td>0.998348</td>\n",
       "      <td>0.996879</td>\n",
       "      <td>0.987432</td>\n",
       "      <td>0.988073</td>\n",
       "      <td>...</td>\n",
       "      <td>0.993223</td>\n",
       "      <td>1.000418</td>\n",
       "      <td>0.980179</td>\n",
       "      <td>0.992788</td>\n",
       "      <td>0.986344</td>\n",
       "      <td>1.003725</td>\n",
       "      <td>1.008002</td>\n",
       "      <td>0.998536</td>\n",
       "      <td>0.987710</td>\n",
       "      <td>0.982636</td>\n",
       "    </tr>\n",
       "    <tr>\n",
       "      <th>2</th>\n",
       "      <td>0.975107</td>\n",
       "      <td>1.019538</td>\n",
       "      <td>1.002172</td>\n",
       "      <td>0.991794</td>\n",
       "      <td>0.987767</td>\n",
       "      <td>1.017524</td>\n",
       "      <td>1.003194</td>\n",
       "      <td>0.989987</td>\n",
       "      <td>0.976110</td>\n",
       "      <td>0.984964</td>\n",
       "      <td>...</td>\n",
       "      <td>0.974034</td>\n",
       "      <td>1.004368</td>\n",
       "      <td>0.977812</td>\n",
       "      <td>0.985116</td>\n",
       "      <td>0.997260</td>\n",
       "      <td>0.993625</td>\n",
       "      <td>1.018469</td>\n",
       "      <td>0.980242</td>\n",
       "      <td>1.002837</td>\n",
       "      <td>0.985957</td>\n",
       "    </tr>\n",
       "    <tr>\n",
       "      <th>3</th>\n",
       "      <td>0.973198</td>\n",
       "      <td>1.001230</td>\n",
       "      <td>1.021262</td>\n",
       "      <td>1.002446</td>\n",
       "      <td>0.995499</td>\n",
       "      <td>1.031659</td>\n",
       "      <td>1.007153</td>\n",
       "      <td>0.988535</td>\n",
       "      <td>0.991370</td>\n",
       "      <td>0.984512</td>\n",
       "      <td>...</td>\n",
       "      <td>0.972950</td>\n",
       "      <td>1.010220</td>\n",
       "      <td>0.976621</td>\n",
       "      <td>1.006686</td>\n",
       "      <td>0.999933</td>\n",
       "      <td>0.994946</td>\n",
       "      <td>1.026653</td>\n",
       "      <td>0.981430</td>\n",
       "      <td>1.007979</td>\n",
       "      <td>0.988920</td>\n",
       "    </tr>\n",
       "    <tr>\n",
       "      <th>4</th>\n",
       "      <td>0.983477</td>\n",
       "      <td>1.005981</td>\n",
       "      <td>1.025011</td>\n",
       "      <td>1.003056</td>\n",
       "      <td>0.994061</td>\n",
       "      <td>1.026460</td>\n",
       "      <td>0.995009</td>\n",
       "      <td>0.996239</td>\n",
       "      <td>0.999929</td>\n",
       "      <td>0.970503</td>\n",
       "      <td>...</td>\n",
       "      <td>0.970563</td>\n",
       "      <td>1.010746</td>\n",
       "      <td>0.977770</td>\n",
       "      <td>1.004327</td>\n",
       "      <td>0.994556</td>\n",
       "      <td>1.008124</td>\n",
       "      <td>1.022435</td>\n",
       "      <td>0.978797</td>\n",
       "      <td>0.998551</td>\n",
       "      <td>0.997728</td>\n",
       "    </tr>\n",
       "    <tr>\n",
       "      <th>...</th>\n",
       "      <td>...</td>\n",
       "      <td>...</td>\n",
       "      <td>...</td>\n",
       "      <td>...</td>\n",
       "      <td>...</td>\n",
       "      <td>...</td>\n",
       "      <td>...</td>\n",
       "      <td>...</td>\n",
       "      <td>...</td>\n",
       "      <td>...</td>\n",
       "      <td>...</td>\n",
       "      <td>...</td>\n",
       "      <td>...</td>\n",
       "      <td>...</td>\n",
       "      <td>...</td>\n",
       "      <td>...</td>\n",
       "      <td>...</td>\n",
       "      <td>...</td>\n",
       "      <td>...</td>\n",
       "      <td>...</td>\n",
       "      <td>...</td>\n",
       "    </tr>\n",
       "    <tr>\n",
       "      <th>7556</th>\n",
       "      <td>10.692809</td>\n",
       "      <td>56.675056</td>\n",
       "      <td>7.720416</td>\n",
       "      <td>17.797934</td>\n",
       "      <td>35.108572</td>\n",
       "      <td>14.927807</td>\n",
       "      <td>7.265996</td>\n",
       "      <td>20.581636</td>\n",
       "      <td>8.493049</td>\n",
       "      <td>19.648228</td>\n",
       "      <td>...</td>\n",
       "      <td>31.144597</td>\n",
       "      <td>27.175385</td>\n",
       "      <td>9.840691</td>\n",
       "      <td>40.463912</td>\n",
       "      <td>26.807049</td>\n",
       "      <td>33.006234</td>\n",
       "      <td>106.114841</td>\n",
       "      <td>32.074066</td>\n",
       "      <td>21.635659</td>\n",
       "      <td>27.799472</td>\n",
       "    </tr>\n",
       "    <tr>\n",
       "      <th>7557</th>\n",
       "      <td>10.619627</td>\n",
       "      <td>57.096652</td>\n",
       "      <td>7.673783</td>\n",
       "      <td>17.756982</td>\n",
       "      <td>34.501755</td>\n",
       "      <td>14.970148</td>\n",
       "      <td>7.237793</td>\n",
       "      <td>20.522385</td>\n",
       "      <td>8.389564</td>\n",
       "      <td>19.586527</td>\n",
       "      <td>...</td>\n",
       "      <td>31.355554</td>\n",
       "      <td>26.838419</td>\n",
       "      <td>9.837961</td>\n",
       "      <td>39.944140</td>\n",
       "      <td>26.581879</td>\n",
       "      <td>33.602536</td>\n",
       "      <td>105.571599</td>\n",
       "      <td>32.224533</td>\n",
       "      <td>22.060233</td>\n",
       "      <td>27.964770</td>\n",
       "    </tr>\n",
       "    <tr>\n",
       "      <th>7558</th>\n",
       "      <td>10.554752</td>\n",
       "      <td>56.981127</td>\n",
       "      <td>7.626350</td>\n",
       "      <td>17.663489</td>\n",
       "      <td>34.432122</td>\n",
       "      <td>14.957708</td>\n",
       "      <td>7.213833</td>\n",
       "      <td>20.484348</td>\n",
       "      <td>8.342152</td>\n",
       "      <td>19.738769</td>\n",
       "      <td>...</td>\n",
       "      <td>31.780571</td>\n",
       "      <td>27.178395</td>\n",
       "      <td>9.773961</td>\n",
       "      <td>39.899159</td>\n",
       "      <td>27.076059</td>\n",
       "      <td>33.682234</td>\n",
       "      <td>105.189910</td>\n",
       "      <td>31.974089</td>\n",
       "      <td>22.186255</td>\n",
       "      <td>27.822354</td>\n",
       "    </tr>\n",
       "    <tr>\n",
       "      <th>7559</th>\n",
       "      <td>10.484255</td>\n",
       "      <td>57.045060</td>\n",
       "      <td>7.684314</td>\n",
       "      <td>17.761934</td>\n",
       "      <td>34.478272</td>\n",
       "      <td>14.797459</td>\n",
       "      <td>7.137213</td>\n",
       "      <td>20.559675</td>\n",
       "      <td>8.328454</td>\n",
       "      <td>19.763726</td>\n",
       "      <td>...</td>\n",
       "      <td>31.670251</td>\n",
       "      <td>26.921214</td>\n",
       "      <td>9.729249</td>\n",
       "      <td>39.771716</td>\n",
       "      <td>27.177985</td>\n",
       "      <td>33.536934</td>\n",
       "      <td>106.934650</td>\n",
       "      <td>31.699478</td>\n",
       "      <td>22.042905</td>\n",
       "      <td>27.950812</td>\n",
       "    </tr>\n",
       "    <tr>\n",
       "      <th>7560</th>\n",
       "      <td>10.480562</td>\n",
       "      <td>56.591358</td>\n",
       "      <td>7.846194</td>\n",
       "      <td>17.831493</td>\n",
       "      <td>34.911772</td>\n",
       "      <td>14.945265</td>\n",
       "      <td>7.104858</td>\n",
       "      <td>20.414246</td>\n",
       "      <td>8.331632</td>\n",
       "      <td>19.891228</td>\n",
       "      <td>...</td>\n",
       "      <td>31.452045</td>\n",
       "      <td>27.036292</td>\n",
       "      <td>9.700645</td>\n",
       "      <td>39.581444</td>\n",
       "      <td>27.565612</td>\n",
       "      <td>33.370547</td>\n",
       "      <td>107.092113</td>\n",
       "      <td>31.697383</td>\n",
       "      <td>22.137695</td>\n",
       "      <td>28.195248</td>\n",
       "    </tr>\n",
       "  </tbody>\n",
       "</table>\n",
       "<p>7561 rows × 500 columns</p>\n",
       "</div>"
      ],
      "text/plain": [
       "            0          1         2          3          4          5    \\\n",
       "0      1.000000   1.000000  1.000000   1.000000   1.000000   1.000000   \n",
       "1      0.992380   1.010288  0.998831   1.007173   0.996953   1.013038   \n",
       "2      0.975107   1.019538  1.002172   0.991794   0.987767   1.017524   \n",
       "3      0.973198   1.001230  1.021262   1.002446   0.995499   1.031659   \n",
       "4      0.983477   1.005981  1.025011   1.003056   0.994061   1.026460   \n",
       "...         ...        ...       ...        ...        ...        ...   \n",
       "7556  10.692809  56.675056  7.720416  17.797934  35.108572  14.927807   \n",
       "7557  10.619627  57.096652  7.673783  17.756982  34.501755  14.970148   \n",
       "7558  10.554752  56.981127  7.626350  17.663489  34.432122  14.957708   \n",
       "7559  10.484255  57.045060  7.684314  17.761934  34.478272  14.797459   \n",
       "7560  10.480562  56.591358  7.846194  17.831493  34.911772  14.945265   \n",
       "\n",
       "           6          7         8          9    ...        490        491  \\\n",
       "0     1.000000   1.000000  1.000000   1.000000  ...   1.000000   1.000000   \n",
       "1     0.998348   0.996879  0.987432   0.988073  ...   0.993223   1.000418   \n",
       "2     1.003194   0.989987  0.976110   0.984964  ...   0.974034   1.004368   \n",
       "3     1.007153   0.988535  0.991370   0.984512  ...   0.972950   1.010220   \n",
       "4     0.995009   0.996239  0.999929   0.970503  ...   0.970563   1.010746   \n",
       "...        ...        ...       ...        ...  ...        ...        ...   \n",
       "7556  7.265996  20.581636  8.493049  19.648228  ...  31.144597  27.175385   \n",
       "7557  7.237793  20.522385  8.389564  19.586527  ...  31.355554  26.838419   \n",
       "7558  7.213833  20.484348  8.342152  19.738769  ...  31.780571  27.178395   \n",
       "7559  7.137213  20.559675  8.328454  19.763726  ...  31.670251  26.921214   \n",
       "7560  7.104858  20.414246  8.331632  19.891228  ...  31.452045  27.036292   \n",
       "\n",
       "           492        493        494        495         496        497  \\\n",
       "0     1.000000   1.000000   1.000000   1.000000    1.000000   1.000000   \n",
       "1     0.980179   0.992788   0.986344   1.003725    1.008002   0.998536   \n",
       "2     0.977812   0.985116   0.997260   0.993625    1.018469   0.980242   \n",
       "3     0.976621   1.006686   0.999933   0.994946    1.026653   0.981430   \n",
       "4     0.977770   1.004327   0.994556   1.008124    1.022435   0.978797   \n",
       "...        ...        ...        ...        ...         ...        ...   \n",
       "7556  9.840691  40.463912  26.807049  33.006234  106.114841  32.074066   \n",
       "7557  9.837961  39.944140  26.581879  33.602536  105.571599  32.224533   \n",
       "7558  9.773961  39.899159  27.076059  33.682234  105.189910  31.974089   \n",
       "7559  9.729249  39.771716  27.177985  33.536934  106.934650  31.699478   \n",
       "7560  9.700645  39.581444  27.565612  33.370547  107.092113  31.697383   \n",
       "\n",
       "            498        499  \n",
       "0      1.000000   1.000000  \n",
       "1      0.987710   0.982636  \n",
       "2      1.002837   0.985957  \n",
       "3      1.007979   0.988920  \n",
       "4      0.998551   0.997728  \n",
       "...         ...        ...  \n",
       "7556  21.635659  27.799472  \n",
       "7557  22.060233  27.964770  \n",
       "7558  22.186255  27.822354  \n",
       "7559  22.042905  27.950812  \n",
       "7560  22.137695  28.195248  \n",
       "\n",
       "[7561 rows x 500 columns]"
      ]
     },
     "execution_count": 34,
     "metadata": {},
     "output_type": "execute_result"
    }
   ],
   "source": [
    "# Run the Monte Carlo simulation to forecast 30 years cumulative returns\n",
    "thirty_year_simulation.calc_cumulative_return()\n"
   ]
  },
  {
   "cell_type": "code",
   "execution_count": 35,
   "metadata": {},
   "outputs": [
    {
     "data": {
      "text/plain": [
       "<AxesSubplot:title={'center':'500 Simulations of Cumulative Portfolio Return Trajectories Over the Next 7560 Trading Days.'}>"
      ]
     },
     "execution_count": 35,
     "metadata": {},
     "output_type": "execute_result"
    },
    {
     "data": {
      "image/png": "[encoded data removed]",
      "text/plain": [
       "<Figure size 432x288 with 1 Axes>"
      ]
     },
     "metadata": {
      "needs_background": "light"
     },
     "output_type": "display_data"
    }
   ],
   "source": [
    "# Visualize the 30-year Monte Carlo simulation by creating an\n",
    "# overlay line plot\n",
    "thirty_year_simulation.plot_simulation()\n"
   ]
  },
  {
   "cell_type": "markdown",
   "metadata": {},
   "source": [
    "#### Step 3: Plot the probability distribution of the Monte Carlo simulation."
   ]
  },
  {
   "cell_type": "code",
   "execution_count": 36,
   "metadata": {},
   "outputs": [
    {
     "data": {
      "text/plain": [
       "<AxesSubplot:title={'center':'Distribution of Final Cumuluative Returns Across All 500 Simulations'}, ylabel='Frequency'>"
      ]
     },
     "execution_count": 36,
     "metadata": {},
     "output_type": "execute_result"
    },
    {
     "data": {
      "image/png": "[encoded data removed]",
      "text/plain": [
       "<Figure size 432x288 with 1 Axes>"
      ]
     },
     "metadata": {
      "needs_background": "light"
     },
     "output_type": "display_data"
    }
   ],
   "source": [
    "# Visualize the probability distribution of the 30-year Monte Carlo simulation \n",
    "# by plotting a histogram\n",
    "thirty_year_simulation.plot_distribution()\n"
   ]
  },
  {
   "cell_type": "markdown",
   "metadata": {},
   "source": [
    "#### Step 4: Generate the summary statistics for the Monte Carlo simulation."
   ]
  },
  {
   "cell_type": "code",
   "execution_count": 37,
   "metadata": {},
   "outputs": [
    {
     "name": "stdout",
     "output_type": "stream",
     "text": [
      "count           500.000000\n",
      "mean             26.861766\n",
      "std              22.184658\n",
      "min               2.855587\n",
      "25%              12.989682\n",
      "50%              20.726270\n",
      "75%              33.281800\n",
      "max             214.552567\n",
      "95% CI Lower      5.247873\n",
      "95% CI Upper     85.179314\n",
      "Name: 7560, dtype: float64\n"
     ]
    }
   ],
   "source": [
    "# Generate summary statistics from the 30-year Monte Carlo simulation results\n",
    "# Save the results as a variable\n",
    "thirty_stats = thirty_year_simulation.summarize_cumulative_return()\n",
    "\n",
    "\n",
    "# Review the 30-year Monte Carlo summary statistics\n",
    "print(thirty_stats)"
   ]
  },
  {
   "cell_type": "markdown",
   "metadata": {},
   "source": [
    "### Analyze the Retirement Portfolio Forecasts\n",
    "\n",
    "Using the current value of only the stock and bond portion of the member's portfolio and the summary statistics that you generated from the Monte Carlo simulation, answer the following question in your Jupyter notebook:\n",
    "\n",
    "-  What are the lower and upper bounds for the expected value of the portfolio with a 95% confidence interval?\n"
   ]
  },
  {
   "cell_type": "code",
   "execution_count": 38,
   "metadata": {},
   "outputs": [
    {
     "name": "stdout",
     "output_type": "stream",
     "text": [
      "The current balance of the stocks and bonds portion of the portfolio is $71,523.90\n"
     ]
    }
   ],
   "source": [
    "# Print the current balance of the stock and bond portion of the members portfolio\n",
    "current_balance = total_stocks_bonds\n",
    "print(f\"The current balance of the stocks and bonds portion of the portfolio is ${current_balance.values[0]:,.2f}\")\n"
   ]
  },
  {
   "cell_type": "code",
   "execution_count": 39,
   "metadata": {},
   "outputs": [
    {
     "name": "stdout",
     "output_type": "stream",
     "text": [
      "There is a 95% chance that the investment in the portfolio over the next ten years will end within in the range of $375,348.37 and $6,092,356.73.\n"
     ]
    }
   ],
   "source": [
    "# Use the lower and upper `95%` confidence intervals to calculate the range of the possible outcomes for the current stock/bond portfolio\n",
    "ci_lower_thirty_cumulative_return = thirty_stats[8] * current_balance.values[0]\n",
    "ci_upper_thirty_cumulative_return = thirty_stats[9] * current_balance.values[0]\n",
    "\n",
    "# Print the result of your calculations\n",
    "print(f\"There is a 95% chance that the investment in the portfolio\"\n",
    "      f\" over the next ten years will end within in the range of\"\n",
    "      f\" ${ci_lower_thirty_cumulative_return:,.2f} and ${ci_upper_thirty_cumulative_return:,.2f}.\")"
   ]
  },
  {
   "cell_type": "markdown",
   "metadata": {},
   "source": [
    "### Forecast Cumulative Returns in 10 Years\n",
    "\n",
    "The CTO of the credit union is impressed with your work on these planning tools but wonders if 30 years is a long time to wait until retirement. So, your next task is to adjust the retirement portfolio and run a new Monte Carlo simulation to find out if the changes will allow members to retire earlier.\n",
    "\n",
    "For this new Monte Carlo simulation, do the following: \n",
    "\n",
    "- Forecast the cumulative returns for 10 years from now. Because of the shortened investment horizon (30 years to 10 years), the portfolio needs to invest more heavily in the riskier asset&mdash;that is, stock&mdash;to help accumulate wealth for retirement. \n",
    "\n",
    "- Adjust the weights of the retirement portfolio so that the composition for the Monte Carlo simulation consists of 20% bonds and 80% stocks. \n",
    "\n",
    "- Run the simulation over 500 samples, and use the same data that the API call to Alpaca generated.\n",
    "\n",
    "- Based on the new Monte Carlo simulation, answer the following questions in your Jupyter notebook:\n",
    "\n",
    "    - Using the current value of only the stock and bond portion of the member's portfolio and the summary statistics that you generated from the new Monte Carlo simulation, what are the lower and upper bounds for the expected value of the portfolio (with the new weights) with a 95% confidence interval?\n",
    "\n",
    "    - Will weighting the portfolio more heavily toward stocks allow the credit union members to retire after only 10 years?\n"
   ]
  },
  {
   "cell_type": "code",
   "execution_count": 40,
   "metadata": {},
   "outputs": [
    {
     "data": {
      "text/html": [
       "<div>\n",
       "<style scoped>\n",
       "    .dataframe tbody tr th:only-of-type {\n",
       "        vertical-align: middle;\n",
       "    }\n",
       "\n",
       "    .dataframe tbody tr th {\n",
       "        vertical-align: top;\n",
       "    }\n",
       "\n",
       "    .dataframe thead tr th {\n",
       "        text-align: left;\n",
       "    }\n",
       "\n",
       "    .dataframe thead tr:last-of-type th {\n",
       "        text-align: right;\n",
       "    }\n",
       "</style>\n",
       "<table border=\"1\" class=\"dataframe\">\n",
       "  <thead>\n",
       "    <tr>\n",
       "      <th></th>\n",
       "      <th colspan=\"6\" halign=\"left\">AGG</th>\n",
       "      <th colspan=\"6\" halign=\"left\">SPY</th>\n",
       "    </tr>\n",
       "    <tr>\n",
       "      <th></th>\n",
       "      <th>open</th>\n",
       "      <th>high</th>\n",
       "      <th>low</th>\n",
       "      <th>close</th>\n",
       "      <th>volume</th>\n",
       "      <th>daily_return</th>\n",
       "      <th>open</th>\n",
       "      <th>high</th>\n",
       "      <th>low</th>\n",
       "      <th>close</th>\n",
       "      <th>volume</th>\n",
       "      <th>daily_return</th>\n",
       "    </tr>\n",
       "    <tr>\n",
       "      <th>time</th>\n",
       "      <th></th>\n",
       "      <th></th>\n",
       "      <th></th>\n",
       "      <th></th>\n",
       "      <th></th>\n",
       "      <th></th>\n",
       "      <th></th>\n",
       "      <th></th>\n",
       "      <th></th>\n",
       "      <th></th>\n",
       "      <th></th>\n",
       "      <th></th>\n",
       "    </tr>\n",
       "  </thead>\n",
       "  <tbody>\n",
       "    <tr>\n",
       "      <th>2017-08-10 00:00:00-04:00</th>\n",
       "      <td>109.70</td>\n",
       "      <td>109.8500</td>\n",
       "      <td>109.67</td>\n",
       "      <td>109.8053</td>\n",
       "      <td>1691677</td>\n",
       "      <td>NaN</td>\n",
       "      <td>246.28</td>\n",
       "      <td>246.44</td>\n",
       "      <td>243.70</td>\n",
       "      <td>243.79</td>\n",
       "      <td>87857827</td>\n",
       "      <td>NaN</td>\n",
       "    </tr>\n",
       "    <tr>\n",
       "      <th>2017-08-11 00:00:00-04:00</th>\n",
       "      <td>109.75</td>\n",
       "      <td>109.9400</td>\n",
       "      <td>109.68</td>\n",
       "      <td>109.8850</td>\n",
       "      <td>1613467</td>\n",
       "      <td>0.000726</td>\n",
       "      <td>244.02</td>\n",
       "      <td>244.80</td>\n",
       "      <td>243.75</td>\n",
       "      <td>244.11</td>\n",
       "      <td>56404847</td>\n",
       "      <td>0.001313</td>\n",
       "    </tr>\n",
       "    <tr>\n",
       "      <th>2017-08-14 00:00:00-04:00</th>\n",
       "      <td>109.84</td>\n",
       "      <td>109.8969</td>\n",
       "      <td>109.74</td>\n",
       "      <td>109.8100</td>\n",
       "      <td>2002026</td>\n",
       "      <td>-0.000683</td>\n",
       "      <td>245.59</td>\n",
       "      <td>246.79</td>\n",
       "      <td>245.55</td>\n",
       "      <td>246.52</td>\n",
       "      <td>49018104</td>\n",
       "      <td>0.009873</td>\n",
       "    </tr>\n",
       "    <tr>\n",
       "      <th>2017-08-15 00:00:00-04:00</th>\n",
       "      <td>109.56</td>\n",
       "      <td>109.7150</td>\n",
       "      <td>109.56</td>\n",
       "      <td>109.6500</td>\n",
       "      <td>1585338</td>\n",
       "      <td>-0.001457</td>\n",
       "      <td>246.98</td>\n",
       "      <td>247.00</td>\n",
       "      <td>246.16</td>\n",
       "      <td>246.53</td>\n",
       "      <td>35274867</td>\n",
       "      <td>0.000041</td>\n",
       "    </tr>\n",
       "    <tr>\n",
       "      <th>2017-08-16 00:00:00-04:00</th>\n",
       "      <td>109.54</td>\n",
       "      <td>109.9300</td>\n",
       "      <td>109.54</td>\n",
       "      <td>109.8400</td>\n",
       "      <td>1570272</td>\n",
       "      <td>0.001733</td>\n",
       "      <td>247.11</td>\n",
       "      <td>247.57</td>\n",
       "      <td>246.45</td>\n",
       "      <td>246.92</td>\n",
       "      <td>44955596</td>\n",
       "      <td>0.001582</td>\n",
       "    </tr>\n",
       "  </tbody>\n",
       "</table>\n",
       "</div>"
      ],
      "text/plain": [
       "                              AGG                                       \\\n",
       "                             open      high     low     close   volume   \n",
       "time                                                                     \n",
       "2017-08-10 00:00:00-04:00  109.70  109.8500  109.67  109.8053  1691677   \n",
       "2017-08-11 00:00:00-04:00  109.75  109.9400  109.68  109.8850  1613467   \n",
       "2017-08-14 00:00:00-04:00  109.84  109.8969  109.74  109.8100  2002026   \n",
       "2017-08-15 00:00:00-04:00  109.56  109.7150  109.56  109.6500  1585338   \n",
       "2017-08-16 00:00:00-04:00  109.54  109.9300  109.54  109.8400  1570272   \n",
       "\n",
       "                                           SPY                          \\\n",
       "                          daily_return    open    high     low   close   \n",
       "time                                                                     \n",
       "2017-08-10 00:00:00-04:00          NaN  246.28  246.44  243.70  243.79   \n",
       "2017-08-11 00:00:00-04:00     0.000726  244.02  244.80  243.75  244.11   \n",
       "2017-08-14 00:00:00-04:00    -0.000683  245.59  246.79  245.55  246.52   \n",
       "2017-08-15 00:00:00-04:00    -0.001457  246.98  247.00  246.16  246.53   \n",
       "2017-08-16 00:00:00-04:00     0.001733  247.11  247.57  246.45  246.92   \n",
       "\n",
       "                                                  \n",
       "                             volume daily_return  \n",
       "time                                              \n",
       "2017-08-10 00:00:00-04:00  87857827          NaN  \n",
       "2017-08-11 00:00:00-04:00  56404847     0.001313  \n",
       "2017-08-14 00:00:00-04:00  49018104     0.009873  \n",
       "2017-08-15 00:00:00-04:00  35274867     0.000041  \n",
       "2017-08-16 00:00:00-04:00  44955596     0.001582  "
      ]
     },
     "execution_count": 40,
     "metadata": {},
     "output_type": "execute_result"
    }
   ],
   "source": [
    "# Configure a Monte Carlo simulation to forecast 10 years cumulative returns\n",
    "# The weights should be split 20% to AGG and 80% to SPY.\n",
    "# Run 500 samples.\n",
    "ten_year_simulation = MCSimulation(\n",
    "    portfolio_data=traditional_portfolio,\n",
    "    weights=[0.20, 0.80],\n",
    "    num_simulation=500,\n",
    "    num_trading_days=252*10,\n",
    ")\n",
    "\n",
    "# Review the simulation input data\n",
    "ten_year_simulation.portfolio_data.head()"
   ]
  },
  {
   "cell_type": "code",
   "execution_count": 41,
   "metadata": {},
   "outputs": [
    {
     "name": "stdout",
     "output_type": "stream",
     "text": [
      "Running Monte Carlo simulation number 0.\n",
      "Running Monte Carlo simulation number 10.\n",
      "Running Monte Carlo simulation number 20.\n",
      "Running Monte Carlo simulation number 30.\n",
      "Running Monte Carlo simulation number 40.\n",
      "Running Monte Carlo simulation number 50.\n",
      "Running Monte Carlo simulation number 60.\n",
      "Running Monte Carlo simulation number 70.\n",
      "Running Monte Carlo simulation number 80.\n",
      "Running Monte Carlo simulation number 90.\n",
      "Running Monte Carlo simulation number 100.\n",
      "Running Monte Carlo simulation number 110.\n",
      "Running Monte Carlo simulation number 120.\n",
      "Running Monte Carlo simulation number 130.\n",
      "Running Monte Carlo simulation number 140.\n",
      "Running Monte Carlo simulation number 150.\n",
      "Running Monte Carlo simulation number 160.\n",
      "Running Monte Carlo simulation number 170.\n",
      "Running Monte Carlo simulation number 180.\n",
      "Running Monte Carlo simulation number 190.\n",
      "Running Monte Carlo simulation number 200.\n",
      "Running Monte Carlo simulation number 210.\n",
      "Running Monte Carlo simulation number 220.\n",
      "Running Monte Carlo simulation number 230.\n",
      "Running Monte Carlo simulation number 240.\n",
      "Running Monte Carlo simulation number 250.\n",
      "Running Monte Carlo simulation number 260.\n",
      "Running Monte Carlo simulation number 270.\n",
      "Running Monte Carlo simulation number 280.\n",
      "Running Monte Carlo simulation number 290.\n",
      "Running Monte Carlo simulation number 300.\n",
      "Running Monte Carlo simulation number 310.\n",
      "Running Monte Carlo simulation number 320.\n",
      "Running Monte Carlo simulation number 330.\n",
      "Running Monte Carlo simulation number 340.\n",
      "Running Monte Carlo simulation number 350.\n",
      "Running Monte Carlo simulation number 360.\n",
      "Running Monte Carlo simulation number 370.\n",
      "Running Monte Carlo simulation number 380.\n",
      "Running Monte Carlo simulation number 390.\n",
      "Running Monte Carlo simulation number 400.\n",
      "Running Monte Carlo simulation number 410.\n",
      "Running Monte Carlo simulation number 420.\n",
      "Running Monte Carlo simulation number 430.\n",
      "Running Monte Carlo simulation number 440.\n",
      "Running Monte Carlo simulation number 450.\n",
      "Running Monte Carlo simulation number 460.\n",
      "Running Monte Carlo simulation number 470.\n",
      "Running Monte Carlo simulation number 480.\n",
      "Running Monte Carlo simulation number 490.\n"
     ]
    },
    {
     "data": {
      "text/html": [
       "<div>\n",
       "<style scoped>\n",
       "    .dataframe tbody tr th:only-of-type {\n",
       "        vertical-align: middle;\n",
       "    }\n",
       "\n",
       "    .dataframe tbody tr th {\n",
       "        vertical-align: top;\n",
       "    }\n",
       "\n",
       "    .dataframe thead th {\n",
       "        text-align: right;\n",
       "    }\n",
       "</style>\n",
       "<table border=\"1\" class=\"dataframe\">\n",
       "  <thead>\n",
       "    <tr style=\"text-align: right;\">\n",
       "      <th></th>\n",
       "      <th>0</th>\n",
       "      <th>1</th>\n",
       "      <th>2</th>\n",
       "      <th>3</th>\n",
       "      <th>4</th>\n",
       "      <th>5</th>\n",
       "      <th>6</th>\n",
       "      <th>7</th>\n",
       "      <th>8</th>\n",
       "      <th>9</th>\n",
       "      <th>...</th>\n",
       "      <th>490</th>\n",
       "      <th>491</th>\n",
       "      <th>492</th>\n",
       "      <th>493</th>\n",
       "      <th>494</th>\n",
       "      <th>495</th>\n",
       "      <th>496</th>\n",
       "      <th>497</th>\n",
       "      <th>498</th>\n",
       "      <th>499</th>\n",
       "    </tr>\n",
       "  </thead>\n",
       "  <tbody>\n",
       "    <tr>\n",
       "      <th>0</th>\n",
       "      <td>1.000000</td>\n",
       "      <td>1.000000</td>\n",
       "      <td>1.000000</td>\n",
       "      <td>1.000000</td>\n",
       "      <td>1.000000</td>\n",
       "      <td>1.000000</td>\n",
       "      <td>1.000000</td>\n",
       "      <td>1.000000</td>\n",
       "      <td>1.000000</td>\n",
       "      <td>1.000000</td>\n",
       "      <td>...</td>\n",
       "      <td>1.000000</td>\n",
       "      <td>1.000000</td>\n",
       "      <td>1.000000</td>\n",
       "      <td>1.000000</td>\n",
       "      <td>1.000000</td>\n",
       "      <td>1.000000</td>\n",
       "      <td>1.000000</td>\n",
       "      <td>1.000000</td>\n",
       "      <td>1.000000</td>\n",
       "      <td>1.000000</td>\n",
       "    </tr>\n",
       "    <tr>\n",
       "      <th>1</th>\n",
       "      <td>0.986926</td>\n",
       "      <td>0.998424</td>\n",
       "      <td>1.027853</td>\n",
       "      <td>0.989537</td>\n",
       "      <td>1.018184</td>\n",
       "      <td>1.002202</td>\n",
       "      <td>1.015440</td>\n",
       "      <td>1.010126</td>\n",
       "      <td>1.008260</td>\n",
       "      <td>1.003582</td>\n",
       "      <td>...</td>\n",
       "      <td>0.992293</td>\n",
       "      <td>1.005047</td>\n",
       "      <td>1.003056</td>\n",
       "      <td>0.996545</td>\n",
       "      <td>1.002207</td>\n",
       "      <td>0.997270</td>\n",
       "      <td>1.001750</td>\n",
       "      <td>0.989404</td>\n",
       "      <td>1.009393</td>\n",
       "      <td>1.002385</td>\n",
       "    </tr>\n",
       "    <tr>\n",
       "      <th>2</th>\n",
       "      <td>1.004074</td>\n",
       "      <td>1.006694</td>\n",
       "      <td>1.017367</td>\n",
       "      <td>0.984639</td>\n",
       "      <td>1.012087</td>\n",
       "      <td>1.016677</td>\n",
       "      <td>1.017334</td>\n",
       "      <td>1.019072</td>\n",
       "      <td>1.004115</td>\n",
       "      <td>0.995316</td>\n",
       "      <td>...</td>\n",
       "      <td>0.980455</td>\n",
       "      <td>0.992746</td>\n",
       "      <td>0.991784</td>\n",
       "      <td>1.008005</td>\n",
       "      <td>1.007496</td>\n",
       "      <td>0.996018</td>\n",
       "      <td>1.008158</td>\n",
       "      <td>0.996470</td>\n",
       "      <td>0.985709</td>\n",
       "      <td>1.001976</td>\n",
       "    </tr>\n",
       "    <tr>\n",
       "      <th>3</th>\n",
       "      <td>1.004184</td>\n",
       "      <td>1.023350</td>\n",
       "      <td>0.996057</td>\n",
       "      <td>0.987503</td>\n",
       "      <td>1.020016</td>\n",
       "      <td>1.025599</td>\n",
       "      <td>1.012746</td>\n",
       "      <td>1.025643</td>\n",
       "      <td>0.987522</td>\n",
       "      <td>0.998577</td>\n",
       "      <td>...</td>\n",
       "      <td>0.980936</td>\n",
       "      <td>0.993896</td>\n",
       "      <td>1.004488</td>\n",
       "      <td>1.023742</td>\n",
       "      <td>1.011238</td>\n",
       "      <td>0.989520</td>\n",
       "      <td>1.014482</td>\n",
       "      <td>0.991518</td>\n",
       "      <td>0.984418</td>\n",
       "      <td>1.016146</td>\n",
       "    </tr>\n",
       "    <tr>\n",
       "      <th>4</th>\n",
       "      <td>1.023681</td>\n",
       "      <td>1.036148</td>\n",
       "      <td>1.002892</td>\n",
       "      <td>0.984785</td>\n",
       "      <td>1.029786</td>\n",
       "      <td>1.012215</td>\n",
       "      <td>1.004255</td>\n",
       "      <td>1.041794</td>\n",
       "      <td>0.950720</td>\n",
       "      <td>0.997624</td>\n",
       "      <td>...</td>\n",
       "      <td>0.971250</td>\n",
       "      <td>0.991529</td>\n",
       "      <td>1.010351</td>\n",
       "      <td>1.033292</td>\n",
       "      <td>1.015681</td>\n",
       "      <td>0.986049</td>\n",
       "      <td>1.015474</td>\n",
       "      <td>0.989235</td>\n",
       "      <td>0.969804</td>\n",
       "      <td>1.017913</td>\n",
       "    </tr>\n",
       "    <tr>\n",
       "      <th>...</th>\n",
       "      <td>...</td>\n",
       "      <td>...</td>\n",
       "      <td>...</td>\n",
       "      <td>...</td>\n",
       "      <td>...</td>\n",
       "      <td>...</td>\n",
       "      <td>...</td>\n",
       "      <td>...</td>\n",
       "      <td>...</td>\n",
       "      <td>...</td>\n",
       "      <td>...</td>\n",
       "      <td>...</td>\n",
       "      <td>...</td>\n",
       "      <td>...</td>\n",
       "      <td>...</td>\n",
       "      <td>...</td>\n",
       "      <td>...</td>\n",
       "      <td>...</td>\n",
       "      <td>...</td>\n",
       "      <td>...</td>\n",
       "      <td>...</td>\n",
       "    </tr>\n",
       "    <tr>\n",
       "      <th>2516</th>\n",
       "      <td>5.719279</td>\n",
       "      <td>1.465772</td>\n",
       "      <td>1.678889</td>\n",
       "      <td>4.073050</td>\n",
       "      <td>2.829781</td>\n",
       "      <td>9.126829</td>\n",
       "      <td>6.520098</td>\n",
       "      <td>3.574101</td>\n",
       "      <td>4.513131</td>\n",
       "      <td>4.179799</td>\n",
       "      <td>...</td>\n",
       "      <td>2.925016</td>\n",
       "      <td>6.216908</td>\n",
       "      <td>4.508963</td>\n",
       "      <td>4.536064</td>\n",
       "      <td>2.022333</td>\n",
       "      <td>3.481481</td>\n",
       "      <td>0.741393</td>\n",
       "      <td>3.315380</td>\n",
       "      <td>11.305884</td>\n",
       "      <td>5.222871</td>\n",
       "    </tr>\n",
       "    <tr>\n",
       "      <th>2517</th>\n",
       "      <td>5.777201</td>\n",
       "      <td>1.457136</td>\n",
       "      <td>1.646428</td>\n",
       "      <td>4.009036</td>\n",
       "      <td>2.822745</td>\n",
       "      <td>9.061363</td>\n",
       "      <td>6.548043</td>\n",
       "      <td>3.544086</td>\n",
       "      <td>4.526957</td>\n",
       "      <td>4.217059</td>\n",
       "      <td>...</td>\n",
       "      <td>2.931828</td>\n",
       "      <td>6.209827</td>\n",
       "      <td>4.541444</td>\n",
       "      <td>4.528267</td>\n",
       "      <td>2.029475</td>\n",
       "      <td>3.537795</td>\n",
       "      <td>0.748617</td>\n",
       "      <td>3.347066</td>\n",
       "      <td>11.308265</td>\n",
       "      <td>5.231387</td>\n",
       "    </tr>\n",
       "    <tr>\n",
       "      <th>2518</th>\n",
       "      <td>5.757080</td>\n",
       "      <td>1.475634</td>\n",
       "      <td>1.645215</td>\n",
       "      <td>4.014326</td>\n",
       "      <td>2.878859</td>\n",
       "      <td>9.058370</td>\n",
       "      <td>6.532260</td>\n",
       "      <td>3.541237</td>\n",
       "      <td>4.588086</td>\n",
       "      <td>4.236143</td>\n",
       "      <td>...</td>\n",
       "      <td>2.966693</td>\n",
       "      <td>6.229768</td>\n",
       "      <td>4.492954</td>\n",
       "      <td>4.455255</td>\n",
       "      <td>2.013085</td>\n",
       "      <td>3.557968</td>\n",
       "      <td>0.750345</td>\n",
       "      <td>3.277221</td>\n",
       "      <td>11.167493</td>\n",
       "      <td>5.225808</td>\n",
       "    </tr>\n",
       "    <tr>\n",
       "      <th>2519</th>\n",
       "      <td>5.611022</td>\n",
       "      <td>1.465561</td>\n",
       "      <td>1.629909</td>\n",
       "      <td>3.995931</td>\n",
       "      <td>2.881112</td>\n",
       "      <td>9.056614</td>\n",
       "      <td>6.514803</td>\n",
       "      <td>3.530546</td>\n",
       "      <td>4.604745</td>\n",
       "      <td>4.318215</td>\n",
       "      <td>...</td>\n",
       "      <td>2.940086</td>\n",
       "      <td>6.302998</td>\n",
       "      <td>4.439433</td>\n",
       "      <td>4.436109</td>\n",
       "      <td>2.074906</td>\n",
       "      <td>3.562277</td>\n",
       "      <td>0.760563</td>\n",
       "      <td>3.270887</td>\n",
       "      <td>11.113417</td>\n",
       "      <td>5.197218</td>\n",
       "    </tr>\n",
       "    <tr>\n",
       "      <th>2520</th>\n",
       "      <td>5.650869</td>\n",
       "      <td>1.446777</td>\n",
       "      <td>1.640015</td>\n",
       "      <td>3.985743</td>\n",
       "      <td>2.895391</td>\n",
       "      <td>9.064590</td>\n",
       "      <td>6.509577</td>\n",
       "      <td>3.546225</td>\n",
       "      <td>4.499611</td>\n",
       "      <td>4.384737</td>\n",
       "      <td>...</td>\n",
       "      <td>2.925062</td>\n",
       "      <td>6.366251</td>\n",
       "      <td>4.424532</td>\n",
       "      <td>4.514672</td>\n",
       "      <td>2.083672</td>\n",
       "      <td>3.535432</td>\n",
       "      <td>0.775925</td>\n",
       "      <td>3.299989</td>\n",
       "      <td>11.239520</td>\n",
       "      <td>5.293875</td>\n",
       "    </tr>\n",
       "  </tbody>\n",
       "</table>\n",
       "<p>2521 rows × 500 columns</p>\n",
       "</div>"
      ],
      "text/plain": [
       "           0         1         2         3         4         5         6    \\\n",
       "0     1.000000  1.000000  1.000000  1.000000  1.000000  1.000000  1.000000   \n",
       "1     0.986926  0.998424  1.027853  0.989537  1.018184  1.002202  1.015440   \n",
       "2     1.004074  1.006694  1.017367  0.984639  1.012087  1.016677  1.017334   \n",
       "3     1.004184  1.023350  0.996057  0.987503  1.020016  1.025599  1.012746   \n",
       "4     1.023681  1.036148  1.002892  0.984785  1.029786  1.012215  1.004255   \n",
       "...        ...       ...       ...       ...       ...       ...       ...   \n",
       "2516  5.719279  1.465772  1.678889  4.073050  2.829781  9.126829  6.520098   \n",
       "2517  5.777201  1.457136  1.646428  4.009036  2.822745  9.061363  6.548043   \n",
       "2518  5.757080  1.475634  1.645215  4.014326  2.878859  9.058370  6.532260   \n",
       "2519  5.611022  1.465561  1.629909  3.995931  2.881112  9.056614  6.514803   \n",
       "2520  5.650869  1.446777  1.640015  3.985743  2.895391  9.064590  6.509577   \n",
       "\n",
       "           7         8         9    ...       490       491       492  \\\n",
       "0     1.000000  1.000000  1.000000  ...  1.000000  1.000000  1.000000   \n",
       "1     1.010126  1.008260  1.003582  ...  0.992293  1.005047  1.003056   \n",
       "2     1.019072  1.004115  0.995316  ...  0.980455  0.992746  0.991784   \n",
       "3     1.025643  0.987522  0.998577  ...  0.980936  0.993896  1.004488   \n",
       "4     1.041794  0.950720  0.997624  ...  0.971250  0.991529  1.010351   \n",
       "...        ...       ...       ...  ...       ...       ...       ...   \n",
       "2516  3.574101  4.513131  4.179799  ...  2.925016  6.216908  4.508963   \n",
       "2517  3.544086  4.526957  4.217059  ...  2.931828  6.209827  4.541444   \n",
       "2518  3.541237  4.588086  4.236143  ...  2.966693  6.229768  4.492954   \n",
       "2519  3.530546  4.604745  4.318215  ...  2.940086  6.302998  4.439433   \n",
       "2520  3.546225  4.499611  4.384737  ...  2.925062  6.366251  4.424532   \n",
       "\n",
       "           493       494       495       496       497        498       499  \n",
       "0     1.000000  1.000000  1.000000  1.000000  1.000000   1.000000  1.000000  \n",
       "1     0.996545  1.002207  0.997270  1.001750  0.989404   1.009393  1.002385  \n",
       "2     1.008005  1.007496  0.996018  1.008158  0.996470   0.985709  1.001976  \n",
       "3     1.023742  1.011238  0.989520  1.014482  0.991518   0.984418  1.016146  \n",
       "4     1.033292  1.015681  0.986049  1.015474  0.989235   0.969804  1.017913  \n",
       "...        ...       ...       ...       ...       ...        ...       ...  \n",
       "2516  4.536064  2.022333  3.481481  0.741393  3.315380  11.305884  5.222871  \n",
       "2517  4.528267  2.029475  3.537795  0.748617  3.347066  11.308265  5.231387  \n",
       "2518  4.455255  2.013085  3.557968  0.750345  3.277221  11.167493  5.225808  \n",
       "2519  4.436109  2.074906  3.562277  0.760563  3.270887  11.113417  5.197218  \n",
       "2520  4.514672  2.083672  3.535432  0.775925  3.299989  11.239520  5.293875  \n",
       "\n",
       "[2521 rows x 500 columns]"
      ]
     },
     "execution_count": 41,
     "metadata": {},
     "output_type": "execute_result"
    }
   ],
   "source": [
    "# Run the Monte Carlo simulation to forecast 10 years cumulative returns\n",
    "ten_year_simulation.calc_cumulative_return()\n"
   ]
  },
  {
   "cell_type": "code",
   "execution_count": 42,
   "metadata": {},
   "outputs": [
    {
     "data": {
      "text/plain": [
       "<AxesSubplot:title={'center':'500 Simulations of Cumulative Portfolio Return Trajectories Over the Next 2520 Trading Days.'}>"
      ]
     },
     "execution_count": 42,
     "metadata": {},
     "output_type": "execute_result"
    },
    {
     "data": {
      "image/png": "[encoded data removed]",
      "text/plain": [
       "<Figure size 432x288 with 1 Axes>"
      ]
     },
     "metadata": {
      "needs_background": "light"
     },
     "output_type": "display_data"
    }
   ],
   "source": [
    "# Visualize the 10-year Monte Carlo simulation by creating an\n",
    "# overlay line plot\n",
    "ten_year_simulation.plot_simulation()\n"
   ]
  },
  {
   "cell_type": "code",
   "execution_count": 43,
   "metadata": {},
   "outputs": [
    {
     "data": {
      "text/plain": [
       "<AxesSubplot:title={'center':'Distribution of Final Cumuluative Returns Across All 500 Simulations'}, ylabel='Frequency'>"
      ]
     },
     "execution_count": 43,
     "metadata": {},
     "output_type": "execute_result"
    },
    {
     "data": {
      "image/png": "[encoded data removed]",
      "text/plain": [
       "<Figure size 432x288 with 1 Axes>"
      ]
     },
     "metadata": {
      "needs_background": "light"
     },
     "output_type": "display_data"
    }
   ],
   "source": [
    "# Visualize the probability distribution of the 10-year Monte Carlo simulation \n",
    "# by plotting a histogram\n",
    "ten_year_simulation.plot_distribution()\n"
   ]
  },
  {
   "cell_type": "code",
   "execution_count": 44,
   "metadata": {},
   "outputs": [
    {
     "name": "stdout",
     "output_type": "stream",
     "text": [
      "count           500.000000\n",
      "mean              4.130711\n",
      "std               2.353936\n",
      "min               0.768235\n",
      "25%               2.556599\n",
      "50%               3.625599\n",
      "75%               4.979930\n",
      "max              19.676639\n",
      "95% CI Lower      1.336999\n",
      "95% CI Upper     10.111557\n",
      "Name: 2520, dtype: float64\n"
     ]
    }
   ],
   "source": [
    "# Generate summary statistics from the 10-year Monte Carlo simulation results\n",
    "# Save the results as a variable\n",
    "ten_stats = ten_year_simulation.summarize_cumulative_return()\n",
    "\n",
    "\n",
    "# Review the 10-year Monte Carlo summary statistics\n",
    "print(ten_stats)"
   ]
  },
  {
   "cell_type": "markdown",
   "metadata": {},
   "source": [
    "### Answer the following questions:"
   ]
  },
  {
   "cell_type": "markdown",
   "metadata": {},
   "source": [
    "#### Question: Using the current value of only the stock and bond portion of the member's portfolio and the summary statistics that you generated from the new Monte Carlo simulation, what are the lower and upper bounds for the expected value of the portfolio (with the new weights) with a 95% confidence interval?"
   ]
  },
  {
   "cell_type": "code",
   "execution_count": 45,
   "metadata": {},
   "outputs": [
    {
     "name": "stdout",
     "output_type": "stream",
     "text": [
      "The current balance of the stocks and bonds portion of the portfolio is $71,523.90\n"
     ]
    }
   ],
   "source": [
    "# Print the current balance of the stock and bond portion of the members portfolio\n",
    "current_balance = total_stocks_bonds\n",
    "print(f\"The current balance of the stocks and bonds portion of the portfolio is ${current_balance.values[0]:,.2f}\")\n"
   ]
  },
  {
   "cell_type": "code",
   "execution_count": 46,
   "metadata": {},
   "outputs": [
    {
     "name": "stdout",
     "output_type": "stream",
     "text": [
      "There is a 95% chance that the investment in the portfolio over the next ten years will end within in the range of $95,627.38 and $723,217.97.\n"
     ]
    }
   ],
   "source": [
    "# Use the lower and upper `95%` confidence intervals to calculate the range of the possible outcomes for the current stock/bond portfolio\n",
    "ci_lower_ten_cumulative_return = ten_stats[8] * current_balance.values[0]\n",
    "ci_upper_ten_cumulative_return = ten_stats[9] * current_balance.values[0]\n",
    "\n",
    "# Print the result of your calculations\n",
    "print(f\"There is a 95% chance that the investment in the portfolio\"\n",
    "      f\" over the next ten years will end within in the range of\"\n",
    "      f\" ${ci_lower_ten_cumulative_return:,.2f} and ${ci_upper_ten_cumulative_return:,.2f}.\")"
   ]
  },
  {
   "cell_type": "markdown",
   "metadata": {},
   "source": [
    "#### Question: Will weighting the portfolio more heavily to stocks allow the credit union members to retire after only 10 years?"
   ]
  },
  {
   "cell_type": "raw",
   "metadata": {},
   "source": [
    "**Answer** \n",
    "After 10 years of cumulative returns in the portfolio more heavily weighted towards stocks, the balance would be between $95,627.38 and $723,217.97 just about anyone, an amount in this range would not be enough to reitre. However, for some, if the return was closer to the upper limit, it may be enough, but not guarenteed. \n",
    "\n",
    "The amount needed to retire is subjective and varies from individual to individual. Another factor could be if the members have alternative streams of income, such as rental properties, that can supplement their income in retirement. "
   ]
  },
  {
   "cell_type": "code",
   "execution_count": null,
   "metadata": {},
   "outputs": [],
   "source": []
  }
 ],
 "metadata": {
  "kernelspec": {
   "display_name": "Python (dev)",
   "language": "python",
   "name": "dev"
  },
  "language_info": {
   "codemirror_mode": {
    "name": "ipython",
    "version": 3
   },
   "file_extension": ".py",
   "mimetype": "text/x-python",
   "name": "python",
   "nbconvert_exporter": "python",
   "pygments_lexer": "ipython3",
   "version": "3.7.10"
  }
 },
 "nbformat": 4,
 "nbformat_minor": 4
}
